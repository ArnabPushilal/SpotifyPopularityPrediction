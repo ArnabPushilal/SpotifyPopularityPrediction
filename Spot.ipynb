{
  "nbformat": 4,
  "nbformat_minor": 0,
  "metadata": {
    "colab": {
      "name": "Spot.ipynb",
      "provenance": [],
      "collapsed_sections": []
    },
    "kernelspec": {
      "name": "python3",
      "display_name": "Python 3"
    }
  },
  "cells": [
    {
      "cell_type": "code",
      "metadata": {
        "id": "tz8ZSWNVmNHC",
        "colab_type": "code",
        "colab": {
          "base_uri": "https://localhost:8080/",
          "height": 163
        },
        "outputId": "73007103-0856-43a3-fb5d-5ba2070c262d"
      },
      "source": [
        "pip install spotipy"
      ],
      "execution_count": null,
      "outputs": [
        {
          "output_type": "stream",
          "text": [
            "Requirement already satisfied: spotipy in /usr/local/lib/python3.6/dist-packages (2.14.0)\n",
            "Requirement already satisfied: six>=1.10.0 in /usr/local/lib/python3.6/dist-packages (from spotipy) (1.15.0)\n",
            "Requirement already satisfied: requests>=2.20.0 in /usr/local/lib/python3.6/dist-packages (from spotipy) (2.23.0)\n",
            "Requirement already satisfied: idna<3,>=2.5 in /usr/local/lib/python3.6/dist-packages (from requests>=2.20.0->spotipy) (2.10)\n",
            "Requirement already satisfied: urllib3!=1.25.0,!=1.25.1,<1.26,>=1.21.1 in /usr/local/lib/python3.6/dist-packages (from requests>=2.20.0->spotipy) (1.24.3)\n",
            "Requirement already satisfied: certifi>=2017.4.17 in /usr/local/lib/python3.6/dist-packages (from requests>=2.20.0->spotipy) (2020.6.20)\n",
            "Requirement already satisfied: chardet<4,>=3.0.2 in /usr/local/lib/python3.6/dist-packages (from requests>=2.20.0->spotipy) (3.0.4)\n",
            "\u001b[31mERROR: Operation cancelled by user\u001b[0m\n"
          ],
          "name": "stdout"
        }
      ]
    },
    {
      "cell_type": "code",
      "metadata": {
        "id": "ZOyN8KDKv94b",
        "colab_type": "code",
        "colab": {
          "base_uri": "https://localhost:8080/",
          "height": 74
        },
        "outputId": "abaa62a6-9e40-460a-9e16-b4bf97998597"
      },
      "source": [
        "from spotipy.oauth2 import SpotifyOAuth\n",
        "from google.colab import files\n",
        "from sklearn.linear_model import Ridge\n",
        "from sklearn.ensemble import RandomForestClassifier\n",
        "from sklearn.preprocessing import PolynomialFeatures\n",
        "from sklearn.model_selection import RepeatedStratifiedKFold\n",
        "from sklearn.linear_model import LinearRegression\n",
        "from sklearn.model_selection import GridSearchCV\n",
        "from sklearn.utils import resample\n",
        "from sklearn import metrics\n",
        "from sklearn.metrics import mean_squared_error\n",
        "from sklearn.metrics import log_loss\n",
        "from matplotlib import pyplot\n",
        "from sklearn.metrics import classification_report\n",
        "from sklearn.model_selection import cross_val_score\n",
        "from sklearn.metrics import roc_curve\n",
        "from sklearn.metrics import roc_auc_score\n",
        "from sklearn.model_selection import RandomizedSearchCV\n",
        "from sklearn.model_selection import cross_val_score\n",
        "from sklearn.tree import DecisionTreeClassifier\n",
        "import spotipy\n",
        "import math\n",
        "from sklearn.ensemble import RandomForestRegressor\n",
        "from sklearn.metrics import confusion_matrix\n",
        "from sklearn.linear_model import LogisticRegression\n",
        "import pandas as pd\n",
        "from sklearn.metrics import accuracy_score\n",
        "from scipy import stats   \n",
        "from scipy.stats import shapiro\n",
        "from sklearn.preprocessing import StandardScaler\n",
        "from sklearn.model_selection import train_test_split\n",
        "from sklearn.preprocessing import MinMaxScaler\n",
        "import numpy as np\n",
        "import timeit\n",
        "import time\n",
        "import seaborn as sns\n",
        "import matplotlib.pyplot as plt\n",
        "from numpy import set_printoptions\n",
        "from sklearn.feature_selection import SelectFromModel\n",
        "import ast \n",
        "import sys\n",
        "import json\n",
        "from spotipy.oauth2 import SpotifyClientCredentials\n",
        "from sklearn.feature_selection import SelectKBest\n",
        "from sklearn.feature_selection import f_classif"
      ],
      "execution_count": null,
      "outputs": [
        {
          "output_type": "stream",
          "text": [
            "/usr/local/lib/python3.6/dist-packages/statsmodels/tools/_testing.py:19: FutureWarning: pandas.util.testing is deprecated. Use the functions in the public API at pandas.testing instead.\n",
            "  import pandas.util.testing as tm\n"
          ],
          "name": "stderr"
        }
      ]
    },
    {
      "cell_type": "code",
      "metadata": {
        "id": "4vSkX8KRtqYF",
        "colab_type": "code",
        "colab": {}
      },
      "source": [
        "client_id = '238e859d309249ccbe58da9c6c0e6b54'\n",
        "client_secret = '2a0d395ac7c5418ab7de8ca760875e22'\n",
        "\n",
        "client_credentials_manager = SpotifyClientCredentials(client_id, client_secret)\n",
        "sp = spotipy.Spotify(client_credentials_manager=client_credentials_manager)"
      ],
      "execution_count": null,
      "outputs": []
    },
    {
      "cell_type": "markdown",
      "metadata": {
        "id": "WV7JsTKIrfxw",
        "colab_type": "text"
      },
      "source": [
        ""
      ]
    },
    {
      "cell_type": "code",
      "metadata": {
        "id": "jXT307Dfo2Rm",
        "colab_type": "code",
        "colab": {}
      },
      "source": [
        "# Defining a function to return audio features for a particular track id\n",
        "def audio_feats(track_id):\n",
        "    a=sp.audio_features(track_id)\n",
        "    return a"
      ],
      "execution_count": null,
      "outputs": []
    },
    {
      "cell_type": "code",
      "metadata": {
        "id": "YciQ6Ogd942i",
        "colab_type": "code",
        "colab": {}
      },
      "source": [
        "# Returns audio_features to prepare it for a dataframe\n",
        "def feat_value_extract(Data):\n",
        " acousticness=[]\n",
        " danceability=[]\n",
        " analysis_url=[]\n",
        " duration_ms=[]\n",
        " energy=[]\n",
        " track_id=[]\n",
        " instrumentalness=[]\n",
        " key=[]\n",
        " liveness=[]\n",
        " loudness=[]\n",
        " mode=[]\n",
        " speechiness=[]\n",
        " tempo=[]\n",
        " time_signature=[]\n",
        " track_href=[]\n",
        " uri=[]\n",
        " valence=[]\n",
        "\n",
        " for i in Data['track_id']:\n",
        "  if i != [None]:\n",
        "   acousticness.append(i[0]['acousticness'])\n",
        "   danceability.append(i[0]['danceability'])\n",
        "   analysis_url.append(i[0]['analysis_url'])\n",
        "   duration_ms.append(i[0]['duration_ms'])\n",
        "   energy.append(i[0]['energy'])\n",
        "   track_id.append(i[0]['id'])\n",
        "   instrumentalness.append(i[0]['instrumentalness'])\n",
        "   key.append(i[0]['key'])\n",
        "   liveness.append(i[0]['liveness'])\n",
        "   loudness.append(i[0]['loudness'])\n",
        "   mode.append(i[0]['mode'])\n",
        "   speechiness.append(i[0]['speechiness'])\n",
        "   tempo.append(i[0]['tempo'])\n",
        "   time_signature.append(i[0]['time_signature'])\n",
        "   track_href.append(i[0]['track_href'])\n",
        "   uri.append(i[0]['uri'])\n",
        "   valence.append(i[0]['valence'])\n",
        " return acousticness,danceability,analysis_url,duration_ms,energy,track_id,instrumentalness,key,liveness,loudness,mode,speechiness,tempo,time_signature,track_href,uri, valence"
      ],
      "execution_count": null,
      "outputs": []
    },
    {
      "cell_type": "code",
      "metadata": {
        "id": "omxV2XoVJeip",
        "colab_type": "code",
        "colab": {}
      },
      "source": [
        ""
      ],
      "execution_count": null,
      "outputs": []
    },
    {
      "cell_type": "code",
      "metadata": {
        "id": "OGFq26sl__0p",
        "colab_type": "code",
        "colab": {}
      },
      "source": [
        "# defining a function to query tracks by year range\n",
        "def query(sample_size,yearold,yearnew):\n",
        " artist_name = []\n",
        " track_name = []\n",
        " popularity = []\n",
        " track_id = []\n",
        " available_markets=[]\n",
        " year=[]\n",
        " for j in range(yearold,yearnew+1): \n",
        "   for i in range(0,sample_size,50):\n",
        "      track_results = sp.search(q=f\"year:{j}\", type='track', limit=50,offset=i)\n",
        "      for i, t in enumerate(track_results['tracks']['items']):\n",
        "         artist_name.append(t['artists'][0]['name'])\n",
        "         track_name.append(t['name'])\n",
        "         track_id.append(t['id'])\n",
        "         available_markets.append(len(t['available_markets']))\n",
        "         popularity.append(t['popularity'])\n",
        "         year.append(j)\n",
        "\n",
        " return year,artist_name,track_name,track_id,available_markets,popularity\n",
        "\n"
      ],
      "execution_count": null,
      "outputs": []
    },
    {
      "cell_type": "code",
      "metadata": {
        "id": "cobnZ2eAZkeI",
        "colab_type": "code",
        "colab": {}
      },
      "source": [
        "def createdata():\n",
        " Data=pd.DataFrame({'Artist':artist_name,'Track':track_name,'track_id':track_id,'NoOfMarkets':available_markets,'PopularityScore':popularity,'Year':year})\n",
        " return Data"
      ],
      "execution_count": null,
      "outputs": []
    },
    {
      "cell_type": "code",
      "metadata": {
        "id": "nO4dR3a5CCeu",
        "colab_type": "code",
        "colab": {}
      },
      "source": [
        "def createdata_feats():\n",
        " Data=pd.DataFrame({'acousticness':acousticness ,'danceability':danceability,'analysis_url':analysis_url,'duration_ms':duration_ms,'energy':energy,'track_id':track_id,'instrumentalness':instrumentalness,'key':key,'liveness':liveness,'loudness':loudness,'mode':mode,'speechiness':speechiness,'tempo':tempo,'time_signature':time_signature,'track_href':track_href,'uri':uri,'valence':valence})\n",
        " return Data"
      ],
      "execution_count": null,
      "outputs": []
    },
    {
      "cell_type": "code",
      "metadata": {
        "id": "hC46yWkfOhoG",
        "colab_type": "code",
        "colab": {
          "base_uri": "https://localhost:8080/",
          "height": 449
        },
        "outputId": "44cdedbe-649d-4a9c-e0e0-80e47ac406cb"
      },
      "source": [
        "# Creating the entire DataFrame , takes quite a while to run\n",
        "start = timeit.default_timer()\n",
        "year,artist_name,track_name,track_id,available_markets,popularity=query(2000,1980,2020)\n",
        "DataFrame=createdata()\n",
        "Data=pd.DataFrame(DataFrame['track_id'].map(lambda x:audio_feats(x)))\n",
        "acousticness,danceability,analysis_url,duration_ms,energy,track_id,instrumentalness,key,liveness,loudness,mode,speechiness,tempo,time_signature,track_href,uri, valence=feat_value_extract(Data)\n",
        "DataTrack=createdata_feats()\n",
        "stop = timeit.default_timer()\n",
        "execution_time = stop - start\n",
        "print(\"Program Executed in \"+str(execution_time))\n"
      ],
      "execution_count": null,
      "outputs": [
        {
          "output_type": "error",
          "ename": "KeyboardInterrupt",
          "evalue": "ignored",
          "traceback": [
            "\u001b[0;31m---------------------------------------------------------------------------\u001b[0m",
            "\u001b[0;31mTypeError\u001b[0m                                 Traceback (most recent call last)",
            "\u001b[0;32m/usr/local/lib/python3.6/dist-packages/urllib3/connectionpool.py\u001b[0m in \u001b[0;36m_make_request\u001b[0;34m(self, conn, method, url, timeout, chunked, **httplib_request_kw)\u001b[0m\n\u001b[1;32m    376\u001b[0m             \u001b[0;32mtry\u001b[0m\u001b[0;34m:\u001b[0m  \u001b[0;31m# Python 2.7, use buffering of HTTP responses\u001b[0m\u001b[0;34m\u001b[0m\u001b[0;34m\u001b[0m\u001b[0m\n\u001b[0;32m--> 377\u001b[0;31m                 \u001b[0mhttplib_response\u001b[0m \u001b[0;34m=\u001b[0m \u001b[0mconn\u001b[0m\u001b[0;34m.\u001b[0m\u001b[0mgetresponse\u001b[0m\u001b[0;34m(\u001b[0m\u001b[0mbuffering\u001b[0m\u001b[0;34m=\u001b[0m\u001b[0;32mTrue\u001b[0m\u001b[0;34m)\u001b[0m\u001b[0;34m\u001b[0m\u001b[0;34m\u001b[0m\u001b[0m\n\u001b[0m\u001b[1;32m    378\u001b[0m             \u001b[0;32mexcept\u001b[0m \u001b[0mTypeError\u001b[0m\u001b[0;34m:\u001b[0m  \u001b[0;31m# Python 3\u001b[0m\u001b[0;34m\u001b[0m\u001b[0;34m\u001b[0m\u001b[0m\n",
            "\u001b[0;31mTypeError\u001b[0m: getresponse() got an unexpected keyword argument 'buffering'",
            "\nDuring handling of the above exception, another exception occurred:\n",
            "\u001b[0;31mKeyboardInterrupt\u001b[0m                         Traceback (most recent call last)",
            "\u001b[0;32m<ipython-input-9-5bf241a04a4b>\u001b[0m in \u001b[0;36m<module>\u001b[0;34m()\u001b[0m\n\u001b[1;32m      1\u001b[0m \u001b[0mstart\u001b[0m \u001b[0;34m=\u001b[0m \u001b[0mtimeit\u001b[0m\u001b[0;34m.\u001b[0m\u001b[0mdefault_timer\u001b[0m\u001b[0;34m(\u001b[0m\u001b[0;34m)\u001b[0m\u001b[0;34m\u001b[0m\u001b[0;34m\u001b[0m\u001b[0m\n\u001b[0;32m----> 2\u001b[0;31m \u001b[0myear\u001b[0m\u001b[0;34m,\u001b[0m\u001b[0martist_name\u001b[0m\u001b[0;34m,\u001b[0m\u001b[0mtrack_name\u001b[0m\u001b[0;34m,\u001b[0m\u001b[0mtrack_id\u001b[0m\u001b[0;34m,\u001b[0m\u001b[0mavailable_markets\u001b[0m\u001b[0;34m,\u001b[0m\u001b[0mpopularity\u001b[0m\u001b[0;34m=\u001b[0m\u001b[0mquery\u001b[0m\u001b[0;34m(\u001b[0m\u001b[0;36m2000\u001b[0m\u001b[0;34m,\u001b[0m\u001b[0;36m1980\u001b[0m\u001b[0;34m,\u001b[0m\u001b[0;36m2020\u001b[0m\u001b[0;34m)\u001b[0m\u001b[0;34m\u001b[0m\u001b[0;34m\u001b[0m\u001b[0m\n\u001b[0m\u001b[1;32m      3\u001b[0m \u001b[0mDataFrame\u001b[0m\u001b[0;34m=\u001b[0m\u001b[0mcreatedata\u001b[0m\u001b[0;34m(\u001b[0m\u001b[0;34m)\u001b[0m\u001b[0;34m\u001b[0m\u001b[0;34m\u001b[0m\u001b[0m\n\u001b[1;32m      4\u001b[0m \u001b[0mData\u001b[0m\u001b[0;34m=\u001b[0m\u001b[0mpd\u001b[0m\u001b[0;34m.\u001b[0m\u001b[0mDataFrame\u001b[0m\u001b[0;34m(\u001b[0m\u001b[0mDataFrame\u001b[0m\u001b[0;34m[\u001b[0m\u001b[0;34m'track_id'\u001b[0m\u001b[0;34m]\u001b[0m\u001b[0;34m.\u001b[0m\u001b[0mmap\u001b[0m\u001b[0;34m(\u001b[0m\u001b[0;32mlambda\u001b[0m \u001b[0mx\u001b[0m\u001b[0;34m:\u001b[0m\u001b[0maudio_feats\u001b[0m\u001b[0;34m(\u001b[0m\u001b[0mx\u001b[0m\u001b[0;34m)\u001b[0m\u001b[0;34m)\u001b[0m\u001b[0;34m)\u001b[0m\u001b[0;34m\u001b[0m\u001b[0;34m\u001b[0m\u001b[0m\n\u001b[1;32m      5\u001b[0m \u001b[0macousticness\u001b[0m\u001b[0;34m,\u001b[0m\u001b[0mdanceability\u001b[0m\u001b[0;34m,\u001b[0m\u001b[0manalysis_url\u001b[0m\u001b[0;34m,\u001b[0m\u001b[0mduration_ms\u001b[0m\u001b[0;34m,\u001b[0m\u001b[0menergy\u001b[0m\u001b[0;34m,\u001b[0m\u001b[0mtrack_id\u001b[0m\u001b[0;34m,\u001b[0m\u001b[0minstrumentalness\u001b[0m\u001b[0;34m,\u001b[0m\u001b[0mkey\u001b[0m\u001b[0;34m,\u001b[0m\u001b[0mliveness\u001b[0m\u001b[0;34m,\u001b[0m\u001b[0mloudness\u001b[0m\u001b[0;34m,\u001b[0m\u001b[0mmode\u001b[0m\u001b[0;34m,\u001b[0m\u001b[0mspeechiness\u001b[0m\u001b[0;34m,\u001b[0m\u001b[0mtempo\u001b[0m\u001b[0;34m,\u001b[0m\u001b[0mtime_signature\u001b[0m\u001b[0;34m,\u001b[0m\u001b[0mtrack_href\u001b[0m\u001b[0;34m,\u001b[0m\u001b[0muri\u001b[0m\u001b[0;34m,\u001b[0m \u001b[0mvalence\u001b[0m\u001b[0;34m=\u001b[0m\u001b[0mfeat_value_extract\u001b[0m\u001b[0;34m(\u001b[0m\u001b[0mData\u001b[0m\u001b[0;34m)\u001b[0m\u001b[0;34m\u001b[0m\u001b[0;34m\u001b[0m\u001b[0m\n",
            "\u001b[0;32m<ipython-input-6-ce593d0ec27c>\u001b[0m in \u001b[0;36mquery\u001b[0;34m(sample_size, yearold, yearnew)\u001b[0m\n\u001b[1;32m      8\u001b[0m  \u001b[0;32mfor\u001b[0m \u001b[0mj\u001b[0m \u001b[0;32min\u001b[0m \u001b[0mrange\u001b[0m\u001b[0;34m(\u001b[0m\u001b[0myearold\u001b[0m\u001b[0;34m,\u001b[0m\u001b[0myearnew\u001b[0m\u001b[0;34m+\u001b[0m\u001b[0;36m1\u001b[0m\u001b[0;34m)\u001b[0m\u001b[0;34m:\u001b[0m\u001b[0;34m\u001b[0m\u001b[0;34m\u001b[0m\u001b[0m\n\u001b[1;32m      9\u001b[0m    \u001b[0;32mfor\u001b[0m \u001b[0mi\u001b[0m \u001b[0;32min\u001b[0m \u001b[0mrange\u001b[0m\u001b[0;34m(\u001b[0m\u001b[0;36m0\u001b[0m\u001b[0;34m,\u001b[0m\u001b[0msample_size\u001b[0m\u001b[0;34m,\u001b[0m\u001b[0;36m50\u001b[0m\u001b[0;34m)\u001b[0m\u001b[0;34m:\u001b[0m\u001b[0;34m\u001b[0m\u001b[0;34m\u001b[0m\u001b[0m\n\u001b[0;32m---> 10\u001b[0;31m       \u001b[0mtrack_results\u001b[0m \u001b[0;34m=\u001b[0m \u001b[0msp\u001b[0m\u001b[0;34m.\u001b[0m\u001b[0msearch\u001b[0m\u001b[0;34m(\u001b[0m\u001b[0mq\u001b[0m\u001b[0;34m=\u001b[0m\u001b[0;34mf\"year:{j}\"\u001b[0m\u001b[0;34m,\u001b[0m \u001b[0mtype\u001b[0m\u001b[0;34m=\u001b[0m\u001b[0;34m'track'\u001b[0m\u001b[0;34m,\u001b[0m \u001b[0mlimit\u001b[0m\u001b[0;34m=\u001b[0m\u001b[0;36m50\u001b[0m\u001b[0;34m,\u001b[0m\u001b[0moffset\u001b[0m\u001b[0;34m=\u001b[0m\u001b[0mi\u001b[0m\u001b[0;34m)\u001b[0m\u001b[0;34m\u001b[0m\u001b[0;34m\u001b[0m\u001b[0m\n\u001b[0m\u001b[1;32m     11\u001b[0m       \u001b[0;32mfor\u001b[0m \u001b[0mi\u001b[0m\u001b[0;34m,\u001b[0m \u001b[0mt\u001b[0m \u001b[0;32min\u001b[0m \u001b[0menumerate\u001b[0m\u001b[0;34m(\u001b[0m\u001b[0mtrack_results\u001b[0m\u001b[0;34m[\u001b[0m\u001b[0;34m'tracks'\u001b[0m\u001b[0;34m]\u001b[0m\u001b[0;34m[\u001b[0m\u001b[0;34m'items'\u001b[0m\u001b[0;34m]\u001b[0m\u001b[0;34m)\u001b[0m\u001b[0;34m:\u001b[0m\u001b[0;34m\u001b[0m\u001b[0;34m\u001b[0m\u001b[0m\n\u001b[1;32m     12\u001b[0m          \u001b[0martist_name\u001b[0m\u001b[0;34m.\u001b[0m\u001b[0mappend\u001b[0m\u001b[0;34m(\u001b[0m\u001b[0mt\u001b[0m\u001b[0;34m[\u001b[0m\u001b[0;34m'artists'\u001b[0m\u001b[0;34m]\u001b[0m\u001b[0;34m[\u001b[0m\u001b[0;36m0\u001b[0m\u001b[0;34m]\u001b[0m\u001b[0;34m[\u001b[0m\u001b[0;34m'name'\u001b[0m\u001b[0;34m]\u001b[0m\u001b[0;34m)\u001b[0m\u001b[0;34m\u001b[0m\u001b[0;34m\u001b[0m\u001b[0m\n",
            "\u001b[0;32m/usr/local/lib/python3.6/dist-packages/spotipy/client.py\u001b[0m in \u001b[0;36msearch\u001b[0;34m(self, q, limit, offset, type, market)\u001b[0m\n\u001b[1;32m    536\u001b[0m         \"\"\"\n\u001b[1;32m    537\u001b[0m         return self._get(\n\u001b[0;32m--> 538\u001b[0;31m             \u001b[0;34m\"search\"\u001b[0m\u001b[0;34m,\u001b[0m \u001b[0mq\u001b[0m\u001b[0;34m=\u001b[0m\u001b[0mq\u001b[0m\u001b[0;34m,\u001b[0m \u001b[0mlimit\u001b[0m\u001b[0;34m=\u001b[0m\u001b[0mlimit\u001b[0m\u001b[0;34m,\u001b[0m \u001b[0moffset\u001b[0m\u001b[0;34m=\u001b[0m\u001b[0moffset\u001b[0m\u001b[0;34m,\u001b[0m \u001b[0mtype\u001b[0m\u001b[0;34m=\u001b[0m\u001b[0mtype\u001b[0m\u001b[0;34m,\u001b[0m \u001b[0mmarket\u001b[0m\u001b[0;34m=\u001b[0m\u001b[0mmarket\u001b[0m\u001b[0;34m\u001b[0m\u001b[0;34m\u001b[0m\u001b[0m\n\u001b[0m\u001b[1;32m    539\u001b[0m         )\n\u001b[1;32m    540\u001b[0m \u001b[0;34m\u001b[0m\u001b[0m\n",
            "\u001b[0;32m/usr/local/lib/python3.6/dist-packages/spotipy/client.py\u001b[0m in \u001b[0;36m_get\u001b[0;34m(self, url, args, payload, **kwargs)\u001b[0m\n\u001b[1;32m    282\u001b[0m             \u001b[0mkwargs\u001b[0m\u001b[0;34m.\u001b[0m\u001b[0mupdate\u001b[0m\u001b[0;34m(\u001b[0m\u001b[0margs\u001b[0m\u001b[0;34m)\u001b[0m\u001b[0;34m\u001b[0m\u001b[0;34m\u001b[0m\u001b[0m\n\u001b[1;32m    283\u001b[0m \u001b[0;34m\u001b[0m\u001b[0m\n\u001b[0;32m--> 284\u001b[0;31m         \u001b[0;32mreturn\u001b[0m \u001b[0mself\u001b[0m\u001b[0;34m.\u001b[0m\u001b[0m_internal_call\u001b[0m\u001b[0;34m(\u001b[0m\u001b[0;34m\"GET\"\u001b[0m\u001b[0;34m,\u001b[0m \u001b[0murl\u001b[0m\u001b[0;34m,\u001b[0m \u001b[0mpayload\u001b[0m\u001b[0;34m,\u001b[0m \u001b[0mkwargs\u001b[0m\u001b[0;34m)\u001b[0m\u001b[0;34m\u001b[0m\u001b[0;34m\u001b[0m\u001b[0m\n\u001b[0m\u001b[1;32m    285\u001b[0m \u001b[0;34m\u001b[0m\u001b[0m\n\u001b[1;32m    286\u001b[0m     \u001b[0;32mdef\u001b[0m \u001b[0m_post\u001b[0m\u001b[0;34m(\u001b[0m\u001b[0mself\u001b[0m\u001b[0;34m,\u001b[0m \u001b[0murl\u001b[0m\u001b[0;34m,\u001b[0m \u001b[0margs\u001b[0m\u001b[0;34m=\u001b[0m\u001b[0;32mNone\u001b[0m\u001b[0;34m,\u001b[0m \u001b[0mpayload\u001b[0m\u001b[0;34m=\u001b[0m\u001b[0;32mNone\u001b[0m\u001b[0;34m,\u001b[0m \u001b[0;34m**\u001b[0m\u001b[0mkwargs\u001b[0m\u001b[0;34m)\u001b[0m\u001b[0;34m:\u001b[0m\u001b[0;34m\u001b[0m\u001b[0;34m\u001b[0m\u001b[0m\n",
            "\u001b[0;32m/usr/local/lib/python3.6/dist-packages/spotipy/client.py\u001b[0m in \u001b[0;36m_internal_call\u001b[0;34m(self, method, url, payload, params)\u001b[0m\n\u001b[1;32m    239\u001b[0m             response = self._session.request(\n\u001b[1;32m    240\u001b[0m                 \u001b[0mmethod\u001b[0m\u001b[0;34m,\u001b[0m \u001b[0murl\u001b[0m\u001b[0;34m,\u001b[0m \u001b[0mheaders\u001b[0m\u001b[0;34m=\u001b[0m\u001b[0mheaders\u001b[0m\u001b[0;34m,\u001b[0m \u001b[0mproxies\u001b[0m\u001b[0;34m=\u001b[0m\u001b[0mself\u001b[0m\u001b[0;34m.\u001b[0m\u001b[0mproxies\u001b[0m\u001b[0;34m,\u001b[0m\u001b[0;34m\u001b[0m\u001b[0;34m\u001b[0m\u001b[0m\n\u001b[0;32m--> 241\u001b[0;31m                 \u001b[0mtimeout\u001b[0m\u001b[0;34m=\u001b[0m\u001b[0mself\u001b[0m\u001b[0;34m.\u001b[0m\u001b[0mrequests_timeout\u001b[0m\u001b[0;34m,\u001b[0m \u001b[0;34m**\u001b[0m\u001b[0margs\u001b[0m\u001b[0;34m\u001b[0m\u001b[0;34m\u001b[0m\u001b[0m\n\u001b[0m\u001b[1;32m    242\u001b[0m             )\n\u001b[1;32m    243\u001b[0m \u001b[0;34m\u001b[0m\u001b[0m\n",
            "\u001b[0;32m/usr/local/lib/python3.6/dist-packages/requests/sessions.py\u001b[0m in \u001b[0;36mrequest\u001b[0;34m(self, method, url, params, data, headers, cookies, files, auth, timeout, allow_redirects, proxies, hooks, stream, verify, cert, json)\u001b[0m\n\u001b[1;32m    528\u001b[0m         }\n\u001b[1;32m    529\u001b[0m         \u001b[0msend_kwargs\u001b[0m\u001b[0;34m.\u001b[0m\u001b[0mupdate\u001b[0m\u001b[0;34m(\u001b[0m\u001b[0msettings\u001b[0m\u001b[0;34m)\u001b[0m\u001b[0;34m\u001b[0m\u001b[0;34m\u001b[0m\u001b[0m\n\u001b[0;32m--> 530\u001b[0;31m         \u001b[0mresp\u001b[0m \u001b[0;34m=\u001b[0m \u001b[0mself\u001b[0m\u001b[0;34m.\u001b[0m\u001b[0msend\u001b[0m\u001b[0;34m(\u001b[0m\u001b[0mprep\u001b[0m\u001b[0;34m,\u001b[0m \u001b[0;34m**\u001b[0m\u001b[0msend_kwargs\u001b[0m\u001b[0;34m)\u001b[0m\u001b[0;34m\u001b[0m\u001b[0;34m\u001b[0m\u001b[0m\n\u001b[0m\u001b[1;32m    531\u001b[0m \u001b[0;34m\u001b[0m\u001b[0m\n\u001b[1;32m    532\u001b[0m         \u001b[0;32mreturn\u001b[0m \u001b[0mresp\u001b[0m\u001b[0;34m\u001b[0m\u001b[0;34m\u001b[0m\u001b[0m\n",
            "\u001b[0;32m/usr/local/lib/python3.6/dist-packages/requests/sessions.py\u001b[0m in \u001b[0;36msend\u001b[0;34m(self, request, **kwargs)\u001b[0m\n\u001b[1;32m    641\u001b[0m \u001b[0;34m\u001b[0m\u001b[0m\n\u001b[1;32m    642\u001b[0m         \u001b[0;31m# Send the request\u001b[0m\u001b[0;34m\u001b[0m\u001b[0;34m\u001b[0m\u001b[0;34m\u001b[0m\u001b[0m\n\u001b[0;32m--> 643\u001b[0;31m         \u001b[0mr\u001b[0m \u001b[0;34m=\u001b[0m \u001b[0madapter\u001b[0m\u001b[0;34m.\u001b[0m\u001b[0msend\u001b[0m\u001b[0;34m(\u001b[0m\u001b[0mrequest\u001b[0m\u001b[0;34m,\u001b[0m \u001b[0;34m**\u001b[0m\u001b[0mkwargs\u001b[0m\u001b[0;34m)\u001b[0m\u001b[0;34m\u001b[0m\u001b[0;34m\u001b[0m\u001b[0m\n\u001b[0m\u001b[1;32m    644\u001b[0m \u001b[0;34m\u001b[0m\u001b[0m\n\u001b[1;32m    645\u001b[0m         \u001b[0;31m# Total elapsed time of the request (approximately)\u001b[0m\u001b[0;34m\u001b[0m\u001b[0;34m\u001b[0m\u001b[0;34m\u001b[0m\u001b[0m\n",
            "\u001b[0;32m/usr/local/lib/python3.6/dist-packages/requests/adapters.py\u001b[0m in \u001b[0;36msend\u001b[0;34m(self, request, stream, timeout, verify, cert, proxies)\u001b[0m\n\u001b[1;32m    447\u001b[0m                     \u001b[0mdecode_content\u001b[0m\u001b[0;34m=\u001b[0m\u001b[0;32mFalse\u001b[0m\u001b[0;34m,\u001b[0m\u001b[0;34m\u001b[0m\u001b[0;34m\u001b[0m\u001b[0m\n\u001b[1;32m    448\u001b[0m                     \u001b[0mretries\u001b[0m\u001b[0;34m=\u001b[0m\u001b[0mself\u001b[0m\u001b[0;34m.\u001b[0m\u001b[0mmax_retries\u001b[0m\u001b[0;34m,\u001b[0m\u001b[0;34m\u001b[0m\u001b[0;34m\u001b[0m\u001b[0m\n\u001b[0;32m--> 449\u001b[0;31m                     \u001b[0mtimeout\u001b[0m\u001b[0;34m=\u001b[0m\u001b[0mtimeout\u001b[0m\u001b[0;34m\u001b[0m\u001b[0;34m\u001b[0m\u001b[0m\n\u001b[0m\u001b[1;32m    450\u001b[0m                 )\n\u001b[1;32m    451\u001b[0m \u001b[0;34m\u001b[0m\u001b[0m\n",
            "\u001b[0;32m/usr/local/lib/python3.6/dist-packages/urllib3/connectionpool.py\u001b[0m in \u001b[0;36murlopen\u001b[0;34m(self, method, url, body, headers, retries, redirect, assert_same_host, timeout, pool_timeout, release_conn, chunked, body_pos, **response_kw)\u001b[0m\n\u001b[1;32m    598\u001b[0m                                                   \u001b[0mtimeout\u001b[0m\u001b[0;34m=\u001b[0m\u001b[0mtimeout_obj\u001b[0m\u001b[0;34m,\u001b[0m\u001b[0;34m\u001b[0m\u001b[0;34m\u001b[0m\u001b[0m\n\u001b[1;32m    599\u001b[0m                                                   \u001b[0mbody\u001b[0m\u001b[0;34m=\u001b[0m\u001b[0mbody\u001b[0m\u001b[0;34m,\u001b[0m \u001b[0mheaders\u001b[0m\u001b[0;34m=\u001b[0m\u001b[0mheaders\u001b[0m\u001b[0;34m,\u001b[0m\u001b[0;34m\u001b[0m\u001b[0;34m\u001b[0m\u001b[0m\n\u001b[0;32m--> 600\u001b[0;31m                                                   chunked=chunked)\n\u001b[0m\u001b[1;32m    601\u001b[0m \u001b[0;34m\u001b[0m\u001b[0m\n\u001b[1;32m    602\u001b[0m             \u001b[0;31m# If we're going to release the connection in ``finally:``, then\u001b[0m\u001b[0;34m\u001b[0m\u001b[0;34m\u001b[0m\u001b[0;34m\u001b[0m\u001b[0m\n",
            "\u001b[0;32m/usr/local/lib/python3.6/dist-packages/urllib3/connectionpool.py\u001b[0m in \u001b[0;36m_make_request\u001b[0;34m(self, conn, method, url, timeout, chunked, **httplib_request_kw)\u001b[0m\n\u001b[1;32m    378\u001b[0m             \u001b[0;32mexcept\u001b[0m \u001b[0mTypeError\u001b[0m\u001b[0;34m:\u001b[0m  \u001b[0;31m# Python 3\u001b[0m\u001b[0;34m\u001b[0m\u001b[0;34m\u001b[0m\u001b[0m\n\u001b[1;32m    379\u001b[0m                 \u001b[0;32mtry\u001b[0m\u001b[0;34m:\u001b[0m\u001b[0;34m\u001b[0m\u001b[0;34m\u001b[0m\u001b[0m\n\u001b[0;32m--> 380\u001b[0;31m                     \u001b[0mhttplib_response\u001b[0m \u001b[0;34m=\u001b[0m \u001b[0mconn\u001b[0m\u001b[0;34m.\u001b[0m\u001b[0mgetresponse\u001b[0m\u001b[0;34m(\u001b[0m\u001b[0;34m)\u001b[0m\u001b[0;34m\u001b[0m\u001b[0;34m\u001b[0m\u001b[0m\n\u001b[0m\u001b[1;32m    381\u001b[0m                 \u001b[0;32mexcept\u001b[0m \u001b[0mException\u001b[0m \u001b[0;32mas\u001b[0m \u001b[0me\u001b[0m\u001b[0;34m:\u001b[0m\u001b[0;34m\u001b[0m\u001b[0;34m\u001b[0m\u001b[0m\n\u001b[1;32m    382\u001b[0m                     \u001b[0;31m# Remove the TypeError from the exception chain in Python 3;\u001b[0m\u001b[0;34m\u001b[0m\u001b[0;34m\u001b[0m\u001b[0;34m\u001b[0m\u001b[0m\n",
            "\u001b[0;32m/usr/lib/python3.6/http/client.py\u001b[0m in \u001b[0;36mgetresponse\u001b[0;34m(self)\u001b[0m\n\u001b[1;32m   1354\u001b[0m         \u001b[0;32mtry\u001b[0m\u001b[0;34m:\u001b[0m\u001b[0;34m\u001b[0m\u001b[0;34m\u001b[0m\u001b[0m\n\u001b[1;32m   1355\u001b[0m             \u001b[0;32mtry\u001b[0m\u001b[0;34m:\u001b[0m\u001b[0;34m\u001b[0m\u001b[0;34m\u001b[0m\u001b[0m\n\u001b[0;32m-> 1356\u001b[0;31m                 \u001b[0mresponse\u001b[0m\u001b[0;34m.\u001b[0m\u001b[0mbegin\u001b[0m\u001b[0;34m(\u001b[0m\u001b[0;34m)\u001b[0m\u001b[0;34m\u001b[0m\u001b[0;34m\u001b[0m\u001b[0m\n\u001b[0m\u001b[1;32m   1357\u001b[0m             \u001b[0;32mexcept\u001b[0m \u001b[0mConnectionError\u001b[0m\u001b[0;34m:\u001b[0m\u001b[0;34m\u001b[0m\u001b[0;34m\u001b[0m\u001b[0m\n\u001b[1;32m   1358\u001b[0m                 \u001b[0mself\u001b[0m\u001b[0;34m.\u001b[0m\u001b[0mclose\u001b[0m\u001b[0;34m(\u001b[0m\u001b[0;34m)\u001b[0m\u001b[0;34m\u001b[0m\u001b[0;34m\u001b[0m\u001b[0m\n",
            "\u001b[0;32m/usr/lib/python3.6/http/client.py\u001b[0m in \u001b[0;36mbegin\u001b[0;34m(self)\u001b[0m\n\u001b[1;32m    305\u001b[0m         \u001b[0;31m# read until we get a non-100 response\u001b[0m\u001b[0;34m\u001b[0m\u001b[0;34m\u001b[0m\u001b[0;34m\u001b[0m\u001b[0m\n\u001b[1;32m    306\u001b[0m         \u001b[0;32mwhile\u001b[0m \u001b[0;32mTrue\u001b[0m\u001b[0;34m:\u001b[0m\u001b[0;34m\u001b[0m\u001b[0;34m\u001b[0m\u001b[0m\n\u001b[0;32m--> 307\u001b[0;31m             \u001b[0mversion\u001b[0m\u001b[0;34m,\u001b[0m \u001b[0mstatus\u001b[0m\u001b[0;34m,\u001b[0m \u001b[0mreason\u001b[0m \u001b[0;34m=\u001b[0m \u001b[0mself\u001b[0m\u001b[0;34m.\u001b[0m\u001b[0m_read_status\u001b[0m\u001b[0;34m(\u001b[0m\u001b[0;34m)\u001b[0m\u001b[0;34m\u001b[0m\u001b[0;34m\u001b[0m\u001b[0m\n\u001b[0m\u001b[1;32m    308\u001b[0m             \u001b[0;32mif\u001b[0m \u001b[0mstatus\u001b[0m \u001b[0;34m!=\u001b[0m \u001b[0mCONTINUE\u001b[0m\u001b[0;34m:\u001b[0m\u001b[0;34m\u001b[0m\u001b[0;34m\u001b[0m\u001b[0m\n\u001b[1;32m    309\u001b[0m                 \u001b[0;32mbreak\u001b[0m\u001b[0;34m\u001b[0m\u001b[0;34m\u001b[0m\u001b[0m\n",
            "\u001b[0;32m/usr/lib/python3.6/http/client.py\u001b[0m in \u001b[0;36m_read_status\u001b[0;34m(self)\u001b[0m\n\u001b[1;32m    266\u001b[0m \u001b[0;34m\u001b[0m\u001b[0m\n\u001b[1;32m    267\u001b[0m     \u001b[0;32mdef\u001b[0m \u001b[0m_read_status\u001b[0m\u001b[0;34m(\u001b[0m\u001b[0mself\u001b[0m\u001b[0;34m)\u001b[0m\u001b[0;34m:\u001b[0m\u001b[0;34m\u001b[0m\u001b[0;34m\u001b[0m\u001b[0m\n\u001b[0;32m--> 268\u001b[0;31m         \u001b[0mline\u001b[0m \u001b[0;34m=\u001b[0m \u001b[0mstr\u001b[0m\u001b[0;34m(\u001b[0m\u001b[0mself\u001b[0m\u001b[0;34m.\u001b[0m\u001b[0mfp\u001b[0m\u001b[0;34m.\u001b[0m\u001b[0mreadline\u001b[0m\u001b[0;34m(\u001b[0m\u001b[0m_MAXLINE\u001b[0m \u001b[0;34m+\u001b[0m \u001b[0;36m1\u001b[0m\u001b[0;34m)\u001b[0m\u001b[0;34m,\u001b[0m \u001b[0;34m\"iso-8859-1\"\u001b[0m\u001b[0;34m)\u001b[0m\u001b[0;34m\u001b[0m\u001b[0;34m\u001b[0m\u001b[0m\n\u001b[0m\u001b[1;32m    269\u001b[0m         \u001b[0;32mif\u001b[0m \u001b[0mlen\u001b[0m\u001b[0;34m(\u001b[0m\u001b[0mline\u001b[0m\u001b[0;34m)\u001b[0m \u001b[0;34m>\u001b[0m \u001b[0m_MAXLINE\u001b[0m\u001b[0;34m:\u001b[0m\u001b[0;34m\u001b[0m\u001b[0;34m\u001b[0m\u001b[0m\n\u001b[1;32m    270\u001b[0m             \u001b[0;32mraise\u001b[0m \u001b[0mLineTooLong\u001b[0m\u001b[0;34m(\u001b[0m\u001b[0;34m\"status line\"\u001b[0m\u001b[0;34m)\u001b[0m\u001b[0;34m\u001b[0m\u001b[0;34m\u001b[0m\u001b[0m\n",
            "\u001b[0;32m/usr/lib/python3.6/socket.py\u001b[0m in \u001b[0;36mreadinto\u001b[0;34m(self, b)\u001b[0m\n\u001b[1;32m    584\u001b[0m         \u001b[0;32mwhile\u001b[0m \u001b[0;32mTrue\u001b[0m\u001b[0;34m:\u001b[0m\u001b[0;34m\u001b[0m\u001b[0;34m\u001b[0m\u001b[0m\n\u001b[1;32m    585\u001b[0m             \u001b[0;32mtry\u001b[0m\u001b[0;34m:\u001b[0m\u001b[0;34m\u001b[0m\u001b[0;34m\u001b[0m\u001b[0m\n\u001b[0;32m--> 586\u001b[0;31m                 \u001b[0;32mreturn\u001b[0m \u001b[0mself\u001b[0m\u001b[0;34m.\u001b[0m\u001b[0m_sock\u001b[0m\u001b[0;34m.\u001b[0m\u001b[0mrecv_into\u001b[0m\u001b[0;34m(\u001b[0m\u001b[0mb\u001b[0m\u001b[0;34m)\u001b[0m\u001b[0;34m\u001b[0m\u001b[0;34m\u001b[0m\u001b[0m\n\u001b[0m\u001b[1;32m    587\u001b[0m             \u001b[0;32mexcept\u001b[0m \u001b[0mtimeout\u001b[0m\u001b[0;34m:\u001b[0m\u001b[0;34m\u001b[0m\u001b[0;34m\u001b[0m\u001b[0m\n\u001b[1;32m    588\u001b[0m                 \u001b[0mself\u001b[0m\u001b[0;34m.\u001b[0m\u001b[0m_timeout_occurred\u001b[0m \u001b[0;34m=\u001b[0m \u001b[0;32mTrue\u001b[0m\u001b[0;34m\u001b[0m\u001b[0;34m\u001b[0m\u001b[0m\n",
            "\u001b[0;32m/usr/lib/python3.6/ssl.py\u001b[0m in \u001b[0;36mrecv_into\u001b[0;34m(self, buffer, nbytes, flags)\u001b[0m\n\u001b[1;32m   1010\u001b[0m                   \u001b[0;34m\"non-zero flags not allowed in calls to recv_into() on %s\"\u001b[0m \u001b[0;34m%\u001b[0m\u001b[0;34m\u001b[0m\u001b[0;34m\u001b[0m\u001b[0m\n\u001b[1;32m   1011\u001b[0m                   self.__class__)\n\u001b[0;32m-> 1012\u001b[0;31m             \u001b[0;32mreturn\u001b[0m \u001b[0mself\u001b[0m\u001b[0;34m.\u001b[0m\u001b[0mread\u001b[0m\u001b[0;34m(\u001b[0m\u001b[0mnbytes\u001b[0m\u001b[0;34m,\u001b[0m \u001b[0mbuffer\u001b[0m\u001b[0;34m)\u001b[0m\u001b[0;34m\u001b[0m\u001b[0;34m\u001b[0m\u001b[0m\n\u001b[0m\u001b[1;32m   1013\u001b[0m         \u001b[0;32melse\u001b[0m\u001b[0;34m:\u001b[0m\u001b[0;34m\u001b[0m\u001b[0;34m\u001b[0m\u001b[0m\n\u001b[1;32m   1014\u001b[0m             \u001b[0;32mreturn\u001b[0m \u001b[0msocket\u001b[0m\u001b[0;34m.\u001b[0m\u001b[0mrecv_into\u001b[0m\u001b[0;34m(\u001b[0m\u001b[0mself\u001b[0m\u001b[0;34m,\u001b[0m \u001b[0mbuffer\u001b[0m\u001b[0;34m,\u001b[0m \u001b[0mnbytes\u001b[0m\u001b[0;34m,\u001b[0m \u001b[0mflags\u001b[0m\u001b[0;34m)\u001b[0m\u001b[0;34m\u001b[0m\u001b[0;34m\u001b[0m\u001b[0m\n",
            "\u001b[0;32m/usr/lib/python3.6/ssl.py\u001b[0m in \u001b[0;36mread\u001b[0;34m(self, len, buffer)\u001b[0m\n\u001b[1;32m    872\u001b[0m             \u001b[0;32mraise\u001b[0m \u001b[0mValueError\u001b[0m\u001b[0;34m(\u001b[0m\u001b[0;34m\"Read on closed or unwrapped SSL socket.\"\u001b[0m\u001b[0;34m)\u001b[0m\u001b[0;34m\u001b[0m\u001b[0;34m\u001b[0m\u001b[0m\n\u001b[1;32m    873\u001b[0m         \u001b[0;32mtry\u001b[0m\u001b[0;34m:\u001b[0m\u001b[0;34m\u001b[0m\u001b[0;34m\u001b[0m\u001b[0m\n\u001b[0;32m--> 874\u001b[0;31m             \u001b[0;32mreturn\u001b[0m \u001b[0mself\u001b[0m\u001b[0;34m.\u001b[0m\u001b[0m_sslobj\u001b[0m\u001b[0;34m.\u001b[0m\u001b[0mread\u001b[0m\u001b[0;34m(\u001b[0m\u001b[0mlen\u001b[0m\u001b[0;34m,\u001b[0m \u001b[0mbuffer\u001b[0m\u001b[0;34m)\u001b[0m\u001b[0;34m\u001b[0m\u001b[0;34m\u001b[0m\u001b[0m\n\u001b[0m\u001b[1;32m    875\u001b[0m         \u001b[0;32mexcept\u001b[0m \u001b[0mSSLError\u001b[0m \u001b[0;32mas\u001b[0m \u001b[0mx\u001b[0m\u001b[0;34m:\u001b[0m\u001b[0;34m\u001b[0m\u001b[0;34m\u001b[0m\u001b[0m\n\u001b[1;32m    876\u001b[0m             \u001b[0;32mif\u001b[0m \u001b[0mx\u001b[0m\u001b[0;34m.\u001b[0m\u001b[0margs\u001b[0m\u001b[0;34m[\u001b[0m\u001b[0;36m0\u001b[0m\u001b[0;34m]\u001b[0m \u001b[0;34m==\u001b[0m \u001b[0mSSL_ERROR_EOF\u001b[0m \u001b[0;32mand\u001b[0m \u001b[0mself\u001b[0m\u001b[0;34m.\u001b[0m\u001b[0msuppress_ragged_eofs\u001b[0m\u001b[0;34m:\u001b[0m\u001b[0;34m\u001b[0m\u001b[0;34m\u001b[0m\u001b[0m\n",
            "\u001b[0;32m/usr/lib/python3.6/ssl.py\u001b[0m in \u001b[0;36mread\u001b[0;34m(self, len, buffer)\u001b[0m\n\u001b[1;32m    629\u001b[0m         \"\"\"\n\u001b[1;32m    630\u001b[0m         \u001b[0;32mif\u001b[0m \u001b[0mbuffer\u001b[0m \u001b[0;32mis\u001b[0m \u001b[0;32mnot\u001b[0m \u001b[0;32mNone\u001b[0m\u001b[0;34m:\u001b[0m\u001b[0;34m\u001b[0m\u001b[0;34m\u001b[0m\u001b[0m\n\u001b[0;32m--> 631\u001b[0;31m             \u001b[0mv\u001b[0m \u001b[0;34m=\u001b[0m \u001b[0mself\u001b[0m\u001b[0;34m.\u001b[0m\u001b[0m_sslobj\u001b[0m\u001b[0;34m.\u001b[0m\u001b[0mread\u001b[0m\u001b[0;34m(\u001b[0m\u001b[0mlen\u001b[0m\u001b[0;34m,\u001b[0m \u001b[0mbuffer\u001b[0m\u001b[0;34m)\u001b[0m\u001b[0;34m\u001b[0m\u001b[0;34m\u001b[0m\u001b[0m\n\u001b[0m\u001b[1;32m    632\u001b[0m         \u001b[0;32melse\u001b[0m\u001b[0;34m:\u001b[0m\u001b[0;34m\u001b[0m\u001b[0;34m\u001b[0m\u001b[0m\n\u001b[1;32m    633\u001b[0m             \u001b[0mv\u001b[0m \u001b[0;34m=\u001b[0m \u001b[0mself\u001b[0m\u001b[0;34m.\u001b[0m\u001b[0m_sslobj\u001b[0m\u001b[0;34m.\u001b[0m\u001b[0mread\u001b[0m\u001b[0;34m(\u001b[0m\u001b[0mlen\u001b[0m\u001b[0;34m)\u001b[0m\u001b[0;34m\u001b[0m\u001b[0;34m\u001b[0m\u001b[0m\n",
            "\u001b[0;31mKeyboardInterrupt\u001b[0m: "
          ]
        }
      ]
    },
    {
      "cell_type": "code",
      "metadata": {
        "id": "sq1TJix5RSA7",
        "colab_type": "code",
        "colab": {}
      },
      "source": [
        "# Converting to csv to save\n",
        "DataFrame.to_csv('/drive/My Drive/SpotifyData/ArtistData1.csv')\n",
        "DataTrack.to_csv('/drive/My Drive/SpotifyData/TrackData.csv')"
      ],
      "execution_count": null,
      "outputs": []
    },
    {
      "cell_type": "code",
      "metadata": {
        "id": "CWiCVOF-LRYz",
        "colab_type": "code",
        "colab": {}
      },
      "source": [
        "\n",
        "from google.colab import  drive\n",
        "drive.mount('/drive' )\n"
      ],
      "execution_count": null,
      "outputs": []
    },
    {
      "cell_type": "code",
      "metadata": {
        "id": "FR-MVCHtQ_jN",
        "colab_type": "code",
        "colab": {}
      },
      "source": [
        "\n",
        "DataTrack=pd.read_csv('/drive/My Drive/SpotifyData/TrackData.csv')\n",
        "DataFrame=pd.read_csv('/drive/My Drive/SpotifyData/ArtistData1.csv')"
      ],
      "execution_count": null,
      "outputs": []
    },
    {
      "cell_type": "code",
      "metadata": {
        "id": "9E43dsoFGei2",
        "colab_type": "code",
        "colab": {
          "base_uri": "https://localhost:8080/",
          "height": 738
        },
        "outputId": "04db0e9b-40a2-4a28-a28e-34b7dde41201"
      },
      "source": [
        "# Merged Frame including Popularity & Audio Features\n",
        "DataFinal=pd.merge(DataTrack,DataFrame,on='track_id',how='inner')\n",
        "DataFinal"
      ],
      "execution_count": null,
      "outputs": [
        {
          "output_type": "execute_result",
          "data": {
            "text/html": [
              "<div>\n",
              "<style scoped>\n",
              "    .dataframe tbody tr th:only-of-type {\n",
              "        vertical-align: middle;\n",
              "    }\n",
              "\n",
              "    .dataframe tbody tr th {\n",
              "        vertical-align: top;\n",
              "    }\n",
              "\n",
              "    .dataframe thead th {\n",
              "        text-align: right;\n",
              "    }\n",
              "</style>\n",
              "<table border=\"1\" class=\"dataframe\">\n",
              "  <thead>\n",
              "    <tr style=\"text-align: right;\">\n",
              "      <th></th>\n",
              "      <th>Unnamed: 0_x</th>\n",
              "      <th>acousticness</th>\n",
              "      <th>danceability</th>\n",
              "      <th>analysis_url</th>\n",
              "      <th>duration_ms</th>\n",
              "      <th>energy</th>\n",
              "      <th>track_id</th>\n",
              "      <th>instrumentalness</th>\n",
              "      <th>key</th>\n",
              "      <th>liveness</th>\n",
              "      <th>loudness</th>\n",
              "      <th>mode</th>\n",
              "      <th>speechiness</th>\n",
              "      <th>tempo</th>\n",
              "      <th>time_signature</th>\n",
              "      <th>track_href</th>\n",
              "      <th>uri</th>\n",
              "      <th>valence</th>\n",
              "      <th>Unnamed: 0_y</th>\n",
              "      <th>Artist</th>\n",
              "      <th>Track</th>\n",
              "      <th>NoOfMarkets</th>\n",
              "      <th>PopularityScore</th>\n",
              "      <th>Year</th>\n",
              "    </tr>\n",
              "  </thead>\n",
              "  <tbody>\n",
              "    <tr>\n",
              "      <th>0</th>\n",
              "      <td>0</td>\n",
              "      <td>0.01100</td>\n",
              "      <td>0.310</td>\n",
              "      <td>https://api.spotify.com/v1/audio-analysis/08mG...</td>\n",
              "      <td>255493</td>\n",
              "      <td>0.700</td>\n",
              "      <td>08mG3Y1vljYA6bvDt4Wqkj</td>\n",
              "      <td>0.009650</td>\n",
              "      <td>9</td>\n",
              "      <td>0.0828</td>\n",
              "      <td>-5.678</td>\n",
              "      <td>1</td>\n",
              "      <td>0.0470</td>\n",
              "      <td>188.386</td>\n",
              "      <td>4</td>\n",
              "      <td>https://api.spotify.com/v1/tracks/08mG3Y1vljYA...</td>\n",
              "      <td>spotify:track:08mG3Y1vljYA6bvDt4Wqkj</td>\n",
              "      <td>0.7630</td>\n",
              "      <td>0</td>\n",
              "      <td>AC/DC</td>\n",
              "      <td>Back In Black</td>\n",
              "      <td>92</td>\n",
              "      <td>84</td>\n",
              "      <td>1980</td>\n",
              "    </tr>\n",
              "    <tr>\n",
              "      <th>1</th>\n",
              "      <td>1</td>\n",
              "      <td>0.23400</td>\n",
              "      <td>0.750</td>\n",
              "      <td>https://api.spotify.com/v1/audio-analysis/4o6B...</td>\n",
              "      <td>190627</td>\n",
              "      <td>0.501</td>\n",
              "      <td>4o6BgsqLIBViaGVbx5rbRk</td>\n",
              "      <td>0.112000</td>\n",
              "      <td>5</td>\n",
              "      <td>0.0467</td>\n",
              "      <td>-12.151</td>\n",
              "      <td>1</td>\n",
              "      <td>0.0552</td>\n",
              "      <td>167.060</td>\n",
              "      <td>4</td>\n",
              "      <td>https://api.spotify.com/v1/tracks/4o6BgsqLIBVi...</td>\n",
              "      <td>spotify:track:4o6BgsqLIBViaGVbx5rbRk</td>\n",
              "      <td>0.9020</td>\n",
              "      <td>1</td>\n",
              "      <td>Daryl Hall &amp; John Oates</td>\n",
              "      <td>You Make My Dreams (Come True)</td>\n",
              "      <td>92</td>\n",
              "      <td>79</td>\n",
              "      <td>1980</td>\n",
              "    </tr>\n",
              "    <tr>\n",
              "      <th>2</th>\n",
              "      <td>2</td>\n",
              "      <td>0.11200</td>\n",
              "      <td>0.933</td>\n",
              "      <td>https://api.spotify.com/v1/audio-analysis/57JV...</td>\n",
              "      <td>214653</td>\n",
              "      <td>0.528</td>\n",
              "      <td>57JVGBtBLCfHw2muk5416J</td>\n",
              "      <td>0.329000</td>\n",
              "      <td>5</td>\n",
              "      <td>0.1630</td>\n",
              "      <td>-6.472</td>\n",
              "      <td>0</td>\n",
              "      <td>0.1620</td>\n",
              "      <td>109.975</td>\n",
              "      <td>4</td>\n",
              "      <td>https://api.spotify.com/v1/tracks/57JVGBtBLCfH...</td>\n",
              "      <td>spotify:track:57JVGBtBLCfHw2muk5416J</td>\n",
              "      <td>0.7560</td>\n",
              "      <td>2</td>\n",
              "      <td>Queen</td>\n",
              "      <td>Another One Bites The Dust - Remastered 2011</td>\n",
              "      <td>2</td>\n",
              "      <td>74</td>\n",
              "      <td>1980</td>\n",
              "    </tr>\n",
              "    <tr>\n",
              "      <th>3</th>\n",
              "      <td>3</td>\n",
              "      <td>0.36100</td>\n",
              "      <td>0.453</td>\n",
              "      <td>https://api.spotify.com/v1/audio-analysis/2b9l...</td>\n",
              "      <td>296200</td>\n",
              "      <td>0.906</td>\n",
              "      <td>2b9lp5A6CqSzwOrBfAFhof</td>\n",
              "      <td>0.000569</td>\n",
              "      <td>9</td>\n",
              "      <td>0.2600</td>\n",
              "      <td>-4.001</td>\n",
              "      <td>1</td>\n",
              "      <td>0.1150</td>\n",
              "      <td>137.575</td>\n",
              "      <td>4</td>\n",
              "      <td>https://api.spotify.com/v1/tracks/2b9lp5A6CqSz...</td>\n",
              "      <td>spotify:track:2b9lp5A6CqSzwOrBfAFhof</td>\n",
              "      <td>0.4730</td>\n",
              "      <td>3</td>\n",
              "      <td>Ozzy Osbourne</td>\n",
              "      <td>Crazy Train</td>\n",
              "      <td>92</td>\n",
              "      <td>78</td>\n",
              "      <td>1980</td>\n",
              "    </tr>\n",
              "    <tr>\n",
              "      <th>4</th>\n",
              "      <td>4</td>\n",
              "      <td>0.00287</td>\n",
              "      <td>0.532</td>\n",
              "      <td>https://api.spotify.com/v1/audio-analysis/2SiX...</td>\n",
              "      <td>210173</td>\n",
              "      <td>0.767</td>\n",
              "      <td>2SiXAy7TuUkycRVbbWDEpo</td>\n",
              "      <td>0.000513</td>\n",
              "      <td>7</td>\n",
              "      <td>0.3900</td>\n",
              "      <td>-5.509</td>\n",
              "      <td>1</td>\n",
              "      <td>0.0574</td>\n",
              "      <td>127.361</td>\n",
              "      <td>4</td>\n",
              "      <td>https://api.spotify.com/v1/tracks/2SiXAy7TuUky...</td>\n",
              "      <td>spotify:track:2SiXAy7TuUkycRVbbWDEpo</td>\n",
              "      <td>0.7550</td>\n",
              "      <td>4</td>\n",
              "      <td>AC/DC</td>\n",
              "      <td>You Shook Me All Night Long</td>\n",
              "      <td>92</td>\n",
              "      <td>81</td>\n",
              "      <td>1980</td>\n",
              "    </tr>\n",
              "    <tr>\n",
              "      <th>...</th>\n",
              "      <td>...</td>\n",
              "      <td>...</td>\n",
              "      <td>...</td>\n",
              "      <td>...</td>\n",
              "      <td>...</td>\n",
              "      <td>...</td>\n",
              "      <td>...</td>\n",
              "      <td>...</td>\n",
              "      <td>...</td>\n",
              "      <td>...</td>\n",
              "      <td>...</td>\n",
              "      <td>...</td>\n",
              "      <td>...</td>\n",
              "      <td>...</td>\n",
              "      <td>...</td>\n",
              "      <td>...</td>\n",
              "      <td>...</td>\n",
              "      <td>...</td>\n",
              "      <td>...</td>\n",
              "      <td>...</td>\n",
              "      <td>...</td>\n",
              "      <td>...</td>\n",
              "      <td>...</td>\n",
              "      <td>...</td>\n",
              "    </tr>\n",
              "    <tr>\n",
              "      <th>81994</th>\n",
              "      <td>81994</td>\n",
              "      <td>0.85400</td>\n",
              "      <td>0.289</td>\n",
              "      <td>https://api.spotify.com/v1/audio-analysis/1yOc...</td>\n",
              "      <td>328232</td>\n",
              "      <td>0.307</td>\n",
              "      <td>1yOc6FBOVD6zBwOMxiSEEv</td>\n",
              "      <td>0.275000</td>\n",
              "      <td>4</td>\n",
              "      <td>0.2550</td>\n",
              "      <td>-16.036</td>\n",
              "      <td>1</td>\n",
              "      <td>0.0452</td>\n",
              "      <td>96.516</td>\n",
              "      <td>4</td>\n",
              "      <td>https://api.spotify.com/v1/tracks/1yOc6FBOVD6z...</td>\n",
              "      <td>spotify:track:1yOc6FBOVD6zBwOMxiSEEv</td>\n",
              "      <td>0.0477</td>\n",
              "      <td>81995</td>\n",
              "      <td>Glass Animals</td>\n",
              "      <td>Helium</td>\n",
              "      <td>92</td>\n",
              "      <td>67</td>\n",
              "      <td>2020</td>\n",
              "    </tr>\n",
              "    <tr>\n",
              "      <th>81995</th>\n",
              "      <td>81995</td>\n",
              "      <td>0.74400</td>\n",
              "      <td>0.791</td>\n",
              "      <td>https://api.spotify.com/v1/audio-analysis/5m0e...</td>\n",
              "      <td>211373</td>\n",
              "      <td>0.366</td>\n",
              "      <td>5m0eMnsWwzgGsUxe1mhFYR</td>\n",
              "      <td>0.000007</td>\n",
              "      <td>1</td>\n",
              "      <td>0.1060</td>\n",
              "      <td>-8.337</td>\n",
              "      <td>1</td>\n",
              "      <td>0.0966</td>\n",
              "      <td>124.878</td>\n",
              "      <td>4</td>\n",
              "      <td>https://api.spotify.com/v1/tracks/5m0eMnsWwzgG...</td>\n",
              "      <td>spotify:track:5m0eMnsWwzgGsUxe1mhFYR</td>\n",
              "      <td>0.3350</td>\n",
              "      <td>81996</td>\n",
              "      <td>Summer Walker</td>\n",
              "      <td>White Tee (with NO1-NOAH)</td>\n",
              "      <td>92</td>\n",
              "      <td>68</td>\n",
              "      <td>2020</td>\n",
              "    </tr>\n",
              "    <tr>\n",
              "      <th>81996</th>\n",
              "      <td>81996</td>\n",
              "      <td>0.12500</td>\n",
              "      <td>0.670</td>\n",
              "      <td>https://api.spotify.com/v1/audio-analysis/2QNn...</td>\n",
              "      <td>146832</td>\n",
              "      <td>0.529</td>\n",
              "      <td>2QNndTbo9mvgOoOKJvpEl2</td>\n",
              "      <td>0.000006</td>\n",
              "      <td>8</td>\n",
              "      <td>0.1090</td>\n",
              "      <td>-7.254</td>\n",
              "      <td>1</td>\n",
              "      <td>0.3230</td>\n",
              "      <td>161.034</td>\n",
              "      <td>4</td>\n",
              "      <td>https://api.spotify.com/v1/tracks/2QNndTbo9mvg...</td>\n",
              "      <td>spotify:track:2QNndTbo9mvgOoOKJvpEl2</td>\n",
              "      <td>0.3610</td>\n",
              "      <td>81997</td>\n",
              "      <td>Bazzi</td>\n",
              "      <td>I Got You</td>\n",
              "      <td>92</td>\n",
              "      <td>71</td>\n",
              "      <td>2020</td>\n",
              "    </tr>\n",
              "    <tr>\n",
              "      <th>81997</th>\n",
              "      <td>81997</td>\n",
              "      <td>0.47100</td>\n",
              "      <td>0.607</td>\n",
              "      <td>https://api.spotify.com/v1/audio-analysis/5LPl...</td>\n",
              "      <td>130760</td>\n",
              "      <td>0.548</td>\n",
              "      <td>5LPlvbxA6bJQHvUW12Mr22</td>\n",
              "      <td>0.000000</td>\n",
              "      <td>2</td>\n",
              "      <td>0.1950</td>\n",
              "      <td>-3.453</td>\n",
              "      <td>1</td>\n",
              "      <td>0.0258</td>\n",
              "      <td>150.189</td>\n",
              "      <td>4</td>\n",
              "      <td>https://api.spotify.com/v1/tracks/5LPlvbxA6bJQ...</td>\n",
              "      <td>spotify:track:5LPlvbxA6bJQHvUW12Mr22</td>\n",
              "      <td>0.8270</td>\n",
              "      <td>81998</td>\n",
              "      <td>Christian Nodal</td>\n",
              "      <td>Amor Tóxico</td>\n",
              "      <td>92</td>\n",
              "      <td>79</td>\n",
              "      <td>2020</td>\n",
              "    </tr>\n",
              "    <tr>\n",
              "      <th>81998</th>\n",
              "      <td>81998</td>\n",
              "      <td>0.24000</td>\n",
              "      <td>0.649</td>\n",
              "      <td>https://api.spotify.com/v1/audio-analysis/6kKC...</td>\n",
              "      <td>227173</td>\n",
              "      <td>0.767</td>\n",
              "      <td>6kKC35sKUh2FUx4M0qAL44</td>\n",
              "      <td>0.000000</td>\n",
              "      <td>11</td>\n",
              "      <td>0.0929</td>\n",
              "      <td>-3.838</td>\n",
              "      <td>0</td>\n",
              "      <td>0.0455</td>\n",
              "      <td>149.918</td>\n",
              "      <td>4</td>\n",
              "      <td>https://api.spotify.com/v1/tracks/6kKC35sKUh2F...</td>\n",
              "      <td>spotify:track:6kKC35sKUh2FUx4M0qAL44</td>\n",
              "      <td>0.6080</td>\n",
              "      <td>81999</td>\n",
              "      <td>BAEKHYUN</td>\n",
              "      <td>Candy</td>\n",
              "      <td>92</td>\n",
              "      <td>76</td>\n",
              "      <td>2020</td>\n",
              "    </tr>\n",
              "  </tbody>\n",
              "</table>\n",
              "<p>81999 rows × 24 columns</p>\n",
              "</div>"
            ],
            "text/plain": [
              "       Unnamed: 0_x  acousticness  ...  PopularityScore  Year\n",
              "0                 0       0.01100  ...               84  1980\n",
              "1                 1       0.23400  ...               79  1980\n",
              "2                 2       0.11200  ...               74  1980\n",
              "3                 3       0.36100  ...               78  1980\n",
              "4                 4       0.00287  ...               81  1980\n",
              "...             ...           ...  ...              ...   ...\n",
              "81994         81994       0.85400  ...               67  2020\n",
              "81995         81995       0.74400  ...               68  2020\n",
              "81996         81996       0.12500  ...               71  2020\n",
              "81997         81997       0.47100  ...               79  2020\n",
              "81998         81998       0.24000  ...               76  2020\n",
              "\n",
              "[81999 rows x 24 columns]"
            ]
          },
          "metadata": {
            "tags": []
          },
          "execution_count": 12
        }
      ]
    },
    {
      "cell_type": "code",
      "metadata": {
        "id": "MnQG88QqYt13",
        "colab_type": "code",
        "colab": {}
      },
      "source": [
        "\n",
        "DataFinal.drop(['Unnamed: 0_x','Unnamed: 0_y'],axis=1,inplace=True)"
      ],
      "execution_count": null,
      "outputs": []
    },
    {
      "cell_type": "markdown",
      "metadata": {
        "id": "8KqJgNPht8Oy",
        "colab_type": "text"
      },
      "source": [
        ""
      ]
    },
    {
      "cell_type": "code",
      "metadata": {
        "id": "1ya_Qqh2Yyk-",
        "colab_type": "code",
        "colab": {
          "base_uri": "https://localhost:8080/",
          "height": 415
        },
        "outputId": "791dd40f-d128-4c6e-a337-52b4669f1a32"
      },
      "source": [
        "DataFinal.describe(include='all')"
      ],
      "execution_count": null,
      "outputs": [
        {
          "output_type": "execute_result",
          "data": {
            "text/html": [
              "<div>\n",
              "<style scoped>\n",
              "    .dataframe tbody tr th:only-of-type {\n",
              "        vertical-align: middle;\n",
              "    }\n",
              "\n",
              "    .dataframe tbody tr th {\n",
              "        vertical-align: top;\n",
              "    }\n",
              "\n",
              "    .dataframe thead th {\n",
              "        text-align: right;\n",
              "    }\n",
              "</style>\n",
              "<table border=\"1\" class=\"dataframe\">\n",
              "  <thead>\n",
              "    <tr style=\"text-align: right;\">\n",
              "      <th></th>\n",
              "      <th>acousticness</th>\n",
              "      <th>danceability</th>\n",
              "      <th>analysis_url</th>\n",
              "      <th>duration_ms</th>\n",
              "      <th>energy</th>\n",
              "      <th>track_id</th>\n",
              "      <th>instrumentalness</th>\n",
              "      <th>key</th>\n",
              "      <th>liveness</th>\n",
              "      <th>loudness</th>\n",
              "      <th>mode</th>\n",
              "      <th>speechiness</th>\n",
              "      <th>tempo</th>\n",
              "      <th>time_signature</th>\n",
              "      <th>track_href</th>\n",
              "      <th>uri</th>\n",
              "      <th>valence</th>\n",
              "      <th>Artist</th>\n",
              "      <th>Track</th>\n",
              "      <th>NoOfMarkets</th>\n",
              "      <th>PopularityScore</th>\n",
              "      <th>Year</th>\n",
              "    </tr>\n",
              "  </thead>\n",
              "  <tbody>\n",
              "    <tr>\n",
              "      <th>count</th>\n",
              "      <td>81999.000000</td>\n",
              "      <td>81999.000000</td>\n",
              "      <td>81999</td>\n",
              "      <td>8.199900e+04</td>\n",
              "      <td>81999.000000</td>\n",
              "      <td>81999</td>\n",
              "      <td>81999.000000</td>\n",
              "      <td>81999.000000</td>\n",
              "      <td>81999.000000</td>\n",
              "      <td>81999.000000</td>\n",
              "      <td>81999.000000</td>\n",
              "      <td>81999.000000</td>\n",
              "      <td>81999.000000</td>\n",
              "      <td>81999.000000</td>\n",
              "      <td>81999</td>\n",
              "      <td>81999</td>\n",
              "      <td>81999.000000</td>\n",
              "      <td>81999</td>\n",
              "      <td>81999</td>\n",
              "      <td>81999.000000</td>\n",
              "      <td>81999.000000</td>\n",
              "      <td>81999.000000</td>\n",
              "    </tr>\n",
              "    <tr>\n",
              "      <th>unique</th>\n",
              "      <td>NaN</td>\n",
              "      <td>NaN</td>\n",
              "      <td>81999</td>\n",
              "      <td>NaN</td>\n",
              "      <td>NaN</td>\n",
              "      <td>81999</td>\n",
              "      <td>NaN</td>\n",
              "      <td>NaN</td>\n",
              "      <td>NaN</td>\n",
              "      <td>NaN</td>\n",
              "      <td>NaN</td>\n",
              "      <td>NaN</td>\n",
              "      <td>NaN</td>\n",
              "      <td>NaN</td>\n",
              "      <td>81999</td>\n",
              "      <td>81999</td>\n",
              "      <td>NaN</td>\n",
              "      <td>13502</td>\n",
              "      <td>65733</td>\n",
              "      <td>NaN</td>\n",
              "      <td>NaN</td>\n",
              "      <td>NaN</td>\n",
              "    </tr>\n",
              "    <tr>\n",
              "      <th>top</th>\n",
              "      <td>NaN</td>\n",
              "      <td>NaN</td>\n",
              "      <td>https://api.spotify.com/v1/audio-analysis/2Laa...</td>\n",
              "      <td>NaN</td>\n",
              "      <td>NaN</td>\n",
              "      <td>2JVmIMxReovAFByF2IIN8i</td>\n",
              "      <td>NaN</td>\n",
              "      <td>NaN</td>\n",
              "      <td>NaN</td>\n",
              "      <td>NaN</td>\n",
              "      <td>NaN</td>\n",
              "      <td>NaN</td>\n",
              "      <td>NaN</td>\n",
              "      <td>NaN</td>\n",
              "      <td>https://api.spotify.com/v1/tracks/0scNiAT9bGMn...</td>\n",
              "      <td>spotify:track:7MiLmLbwNoyf47xQ4TCVYp</td>\n",
              "      <td>NaN</td>\n",
              "      <td>J Balvin</td>\n",
              "      <td>Traicionera</td>\n",
              "      <td>NaN</td>\n",
              "      <td>NaN</td>\n",
              "      <td>NaN</td>\n",
              "    </tr>\n",
              "    <tr>\n",
              "      <th>freq</th>\n",
              "      <td>NaN</td>\n",
              "      <td>NaN</td>\n",
              "      <td>1</td>\n",
              "      <td>NaN</td>\n",
              "      <td>NaN</td>\n",
              "      <td>1</td>\n",
              "      <td>NaN</td>\n",
              "      <td>NaN</td>\n",
              "      <td>NaN</td>\n",
              "      <td>NaN</td>\n",
              "      <td>NaN</td>\n",
              "      <td>NaN</td>\n",
              "      <td>NaN</td>\n",
              "      <td>NaN</td>\n",
              "      <td>1</td>\n",
              "      <td>1</td>\n",
              "      <td>NaN</td>\n",
              "      <td>270</td>\n",
              "      <td>88</td>\n",
              "      <td>NaN</td>\n",
              "      <td>NaN</td>\n",
              "      <td>NaN</td>\n",
              "    </tr>\n",
              "    <tr>\n",
              "      <th>mean</th>\n",
              "      <td>0.270346</td>\n",
              "      <td>0.577709</td>\n",
              "      <td>NaN</td>\n",
              "      <td>2.408327e+05</td>\n",
              "      <td>0.625194</td>\n",
              "      <td>NaN</td>\n",
              "      <td>0.089948</td>\n",
              "      <td>5.274503</td>\n",
              "      <td>0.197205</td>\n",
              "      <td>-8.813967</td>\n",
              "      <td>0.689057</td>\n",
              "      <td>0.085259</td>\n",
              "      <td>121.010983</td>\n",
              "      <td>3.912792</td>\n",
              "      <td>NaN</td>\n",
              "      <td>NaN</td>\n",
              "      <td>0.530418</td>\n",
              "      <td>NaN</td>\n",
              "      <td>NaN</td>\n",
              "      <td>76.469981</td>\n",
              "      <td>47.962500</td>\n",
              "      <td>1999.999805</td>\n",
              "    </tr>\n",
              "    <tr>\n",
              "      <th>std</th>\n",
              "      <td>0.298293</td>\n",
              "      <td>0.176904</td>\n",
              "      <td>NaN</td>\n",
              "      <td>9.226099e+04</td>\n",
              "      <td>0.238028</td>\n",
              "      <td>NaN</td>\n",
              "      <td>0.236459</td>\n",
              "      <td>3.558949</td>\n",
              "      <td>0.172304</td>\n",
              "      <td>4.856552</td>\n",
              "      <td>0.462882</td>\n",
              "      <td>0.098184</td>\n",
              "      <td>30.445392</td>\n",
              "      <td>0.394933</td>\n",
              "      <td>NaN</td>\n",
              "      <td>NaN</td>\n",
              "      <td>0.258450</td>\n",
              "      <td>NaN</td>\n",
              "      <td>NaN</td>\n",
              "      <td>31.393999</td>\n",
              "      <td>13.732999</td>\n",
              "      <td>11.832172</td>\n",
              "    </tr>\n",
              "    <tr>\n",
              "      <th>min</th>\n",
              "      <td>0.000000</td>\n",
              "      <td>0.000000</td>\n",
              "      <td>NaN</td>\n",
              "      <td>3.008000e+04</td>\n",
              "      <td>0.000000</td>\n",
              "      <td>NaN</td>\n",
              "      <td>0.000000</td>\n",
              "      <td>0.000000</td>\n",
              "      <td>0.000000</td>\n",
              "      <td>-60.000000</td>\n",
              "      <td>0.000000</td>\n",
              "      <td>0.000000</td>\n",
              "      <td>0.000000</td>\n",
              "      <td>0.000000</td>\n",
              "      <td>NaN</td>\n",
              "      <td>NaN</td>\n",
              "      <td>0.000000</td>\n",
              "      <td>NaN</td>\n",
              "      <td>NaN</td>\n",
              "      <td>0.000000</td>\n",
              "      <td>0.000000</td>\n",
              "      <td>1980.000000</td>\n",
              "    </tr>\n",
              "    <tr>\n",
              "      <th>25%</th>\n",
              "      <td>0.021300</td>\n",
              "      <td>0.462000</td>\n",
              "      <td>NaN</td>\n",
              "      <td>1.941070e+05</td>\n",
              "      <td>0.467000</td>\n",
              "      <td>NaN</td>\n",
              "      <td>0.000000</td>\n",
              "      <td>2.000000</td>\n",
              "      <td>0.092700</td>\n",
              "      <td>-10.987000</td>\n",
              "      <td>0.000000</td>\n",
              "      <td>0.034300</td>\n",
              "      <td>96.942500</td>\n",
              "      <td>4.000000</td>\n",
              "      <td>NaN</td>\n",
              "      <td>NaN</td>\n",
              "      <td>0.324000</td>\n",
              "      <td>NaN</td>\n",
              "      <td>NaN</td>\n",
              "      <td>87.000000</td>\n",
              "      <td>39.000000</td>\n",
              "      <td>1990.000000</td>\n",
              "    </tr>\n",
              "    <tr>\n",
              "      <th>50%</th>\n",
              "      <td>0.141000</td>\n",
              "      <td>0.591000</td>\n",
              "      <td>NaN</td>\n",
              "      <td>2.295730e+05</td>\n",
              "      <td>0.656000</td>\n",
              "      <td>NaN</td>\n",
              "      <td>0.000022</td>\n",
              "      <td>5.000000</td>\n",
              "      <td>0.128000</td>\n",
              "      <td>-7.654000</td>\n",
              "      <td>1.000000</td>\n",
              "      <td>0.046400</td>\n",
              "      <td>118.964000</td>\n",
              "      <td>4.000000</td>\n",
              "      <td>NaN</td>\n",
              "      <td>NaN</td>\n",
              "      <td>0.536000</td>\n",
              "      <td>NaN</td>\n",
              "      <td>NaN</td>\n",
              "      <td>92.000000</td>\n",
              "      <td>47.000000</td>\n",
              "      <td>2000.000000</td>\n",
              "    </tr>\n",
              "    <tr>\n",
              "      <th>75%</th>\n",
              "      <td>0.460000</td>\n",
              "      <td>0.709000</td>\n",
              "      <td>NaN</td>\n",
              "      <td>2.726270e+05</td>\n",
              "      <td>0.819000</td>\n",
              "      <td>NaN</td>\n",
              "      <td>0.005180</td>\n",
              "      <td>8.000000</td>\n",
              "      <td>0.254000</td>\n",
              "      <td>-5.478000</td>\n",
              "      <td>1.000000</td>\n",
              "      <td>0.085500</td>\n",
              "      <td>140.064500</td>\n",
              "      <td>4.000000</td>\n",
              "      <td>NaN</td>\n",
              "      <td>NaN</td>\n",
              "      <td>0.743000</td>\n",
              "      <td>NaN</td>\n",
              "      <td>NaN</td>\n",
              "      <td>92.000000</td>\n",
              "      <td>57.000000</td>\n",
              "      <td>2010.000000</td>\n",
              "    </tr>\n",
              "    <tr>\n",
              "      <th>max</th>\n",
              "      <td>0.996000</td>\n",
              "      <td>0.988000</td>\n",
              "      <td>NaN</td>\n",
              "      <td>5.403500e+06</td>\n",
              "      <td>1.000000</td>\n",
              "      <td>NaN</td>\n",
              "      <td>1.000000</td>\n",
              "      <td>11.000000</td>\n",
              "      <td>1.000000</td>\n",
              "      <td>1.342000</td>\n",
              "      <td>1.000000</td>\n",
              "      <td>0.960000</td>\n",
              "      <td>244.091000</td>\n",
              "      <td>5.000000</td>\n",
              "      <td>NaN</td>\n",
              "      <td>NaN</td>\n",
              "      <td>1.000000</td>\n",
              "      <td>NaN</td>\n",
              "      <td>NaN</td>\n",
              "      <td>92.000000</td>\n",
              "      <td>100.000000</td>\n",
              "      <td>2020.000000</td>\n",
              "    </tr>\n",
              "  </tbody>\n",
              "</table>\n",
              "</div>"
            ],
            "text/plain": [
              "        acousticness  danceability  ... PopularityScore          Year\n",
              "count   81999.000000  81999.000000  ...    81999.000000  81999.000000\n",
              "unique           NaN           NaN  ...             NaN           NaN\n",
              "top              NaN           NaN  ...             NaN           NaN\n",
              "freq             NaN           NaN  ...             NaN           NaN\n",
              "mean        0.270346      0.577709  ...       47.962500   1999.999805\n",
              "std         0.298293      0.176904  ...       13.732999     11.832172\n",
              "min         0.000000      0.000000  ...        0.000000   1980.000000\n",
              "25%         0.021300      0.462000  ...       39.000000   1990.000000\n",
              "50%         0.141000      0.591000  ...       47.000000   2000.000000\n",
              "75%         0.460000      0.709000  ...       57.000000   2010.000000\n",
              "max         0.996000      0.988000  ...      100.000000   2020.000000\n",
              "\n",
              "[11 rows x 22 columns]"
            ]
          },
          "metadata": {
            "tags": []
          },
          "execution_count": 22
        }
      ]
    },
    {
      "cell_type": "code",
      "metadata": {
        "id": "JQ8Ec6nsz8vr",
        "colab_type": "code",
        "colab": {}
      },
      "source": [
        "# Defining a function to get rid of outliers \n",
        "def outlier(Data):\n",
        " Q1 = Data.quantile(0.25)\n",
        " Q3 = Data.quantile(0.75)\n",
        " IQR = Q3 - Q1\n",
        " data_clean = Data[~((Data < (Q1 - 1.5 * IQR)) |(Data > (Q3 + 1.5 * IQR))).any(axis=1)]\n",
        " print(data_clean.shape)\n",
        " return data_clean"
      ],
      "execution_count": null,
      "outputs": []
    },
    {
      "cell_type": "code",
      "metadata": {
        "id": "I5cneQFcOMbP",
        "colab_type": "code",
        "colab": {
          "base_uri": "https://localhost:8080/",
          "height": 621
        },
        "outputId": "ccbf7237-5ed9-436e-f864-4bf57cd966c1"
      },
      "source": [
        "# Year vs Avg Popularity, increasing by Year\n",
        "fig=plt.figure(figsize=(10,10))\n",
        "ax=sns.lineplot(data=DataFinal.groupby('Year')['PopularityScore'].mean())\n",
        "ax.set_title(\"Year vs Average Popularity\")\n",
        "ax.set_xlabel('Year')\n",
        "\n",
        "ax.set_ylabel('Average PopularityScore')\n",
        "plt.savefig(\"Year_vs_AvgPopScore.png\")\n",
        "files.download(\"Year_vs_AvgPopScore.png\")\n"
      ],
      "execution_count": null,
      "outputs": [
        {
          "output_type": "display_data",
          "data": {
            "application/javascript": [
              "\n",
              "    async function download(id, filename, size) {\n",
              "      if (!google.colab.kernel.accessAllowed) {\n",
              "        return;\n",
              "      }\n",
              "      const div = document.createElement('div');\n",
              "      const label = document.createElement('label');\n",
              "      label.textContent = `Downloading \"${filename}\": `;\n",
              "      div.appendChild(label);\n",
              "      const progress = document.createElement('progress');\n",
              "      progress.max = size;\n",
              "      div.appendChild(progress);\n",
              "      document.body.appendChild(div);\n",
              "\n",
              "      const buffers = [];\n",
              "      let downloaded = 0;\n",
              "\n",
              "      const channel = await google.colab.kernel.comms.open(id);\n",
              "      // Send a message to notify the kernel that we're ready.\n",
              "      channel.send({})\n",
              "\n",
              "      for await (const message of channel.messages) {\n",
              "        // Send a message to notify the kernel that we're ready.\n",
              "        channel.send({})\n",
              "        if (message.buffers) {\n",
              "          for (const buffer of message.buffers) {\n",
              "            buffers.push(buffer);\n",
              "            downloaded += buffer.byteLength;\n",
              "            progress.value = downloaded;\n",
              "          }\n",
              "        }\n",
              "      }\n",
              "      const blob = new Blob(buffers, {type: 'application/binary'});\n",
              "      const a = document.createElement('a');\n",
              "      a.href = window.URL.createObjectURL(blob);\n",
              "      a.download = filename;\n",
              "      div.appendChild(a);\n",
              "      a.click();\n",
              "      div.remove();\n",
              "    }\n",
              "  "
            ],
            "text/plain": [
              "<IPython.core.display.Javascript object>"
            ]
          },
          "metadata": {
            "tags": []
          }
        },
        {
          "output_type": "display_data",
          "data": {
            "application/javascript": [
              "download(\"download_118d6992-f8e1-46fe-8bbe-7416808e893d\", \"Year_vs_AvgPopScore.png\", 29172)"
            ],
            "text/plain": [
              "<IPython.core.display.Javascript object>"
            ]
          },
          "metadata": {
            "tags": []
          }
        },
        {
          "output_type": "display_data",
          "data": {
            "image/png": "[encoded data removed]",
            "text/plain": [
              "<Figure size 720x720 with 1 Axes>"
            ]
          },
          "metadata": {
            "tags": [],
            "needs_background": "light"
          }
        }
      ]
    },
    {
      "cell_type": "code",
      "metadata": {
        "id": "HcRE4lr_KN5D",
        "colab_type": "code",
        "colab": {}
      },
      "source": [
        "#Dividing Data into Decades\n",
        "DataEight=DataFinal.loc[(DataFinal['Year'] <= 1989) ]\n",
        "DataNine= DataFinal.loc[(DataFinal['Year'] <=1999) & (DataFinal['Year']>=1990) ]\n",
        "DataZero= DataFinal.loc[(DataFinal['Year'] <=2009) & (DataFinal['Year']>=2000) ]\n",
        "DataTen = DataFinal.loc[(DataFinal['Year'] <=2019) & (DataFinal['Year']>=2010) ]"
      ],
      "execution_count": null,
      "outputs": []
    },
    {
      "cell_type": "code",
      "metadata": {
        "id": "sKC155lODewt",
        "colab_type": "code",
        "colab": {}
      },
      "source": [
        "# Function for UniVariatePlots\n",
        "def univariateplot(Data):\n",
        " fig=plt.figure(figsize=(20,20))\n",
        " rows=7\n",
        " cols=7\n",
        " DataNumerical=Data.drop(['track_href','uri','Track','track_id','analysis_url','Artist','Year'],axis=1)\n",
        " for i, feature in enumerate(DataNumerical.columns):\n",
        "    ax=fig.add_subplot(rows,cols,i+1)\n",
        "    sns.distplot(DataNumerical[feature],kde=False)\n",
        "    ax.set_title(feature+\" Distribution\",color='red')\n",
        " fig.tight_layout()     \n",
        " plt.show()"
      ],
      "execution_count": null,
      "outputs": []
    },
    {
      "cell_type": "code",
      "metadata": {
        "id": "UpJl4tEJ1MTU",
        "colab_type": "code",
        "colab": {
          "base_uri": "https://localhost:8080/",
          "height": 538
        },
        "outputId": "69859a05-da76-42e8-bcb4-721a7bfce4bf"
      },
      "source": [
        "univariateplot(DataTen)"
      ],
      "execution_count": null,
      "outputs": [
        {
          "output_type": "display_data",
          "data": {
            "image/png": "[encoded data removed]",
            "text/plain": [
              "<Figure size 1440x1440 with 15 Axes>"
            ]
          },
          "metadata": {
            "tags": [],
            "needs_background": "light"
          }
        }
      ]
    },
    {
      "cell_type": "code",
      "metadata": {
        "id": "kFSyn4UODvri",
        "colab_type": "code",
        "colab": {
          "base_uri": "https://localhost:8080/",
          "height": 128
        },
        "outputId": "dcd7ca11-b597-4cda-e0af-d7617bc57526"
      },
      "source": [
        "# a lot of 0s in the 2020 + low popularity score, so will not use data from the 2020s\n",
        "DataFinal[DataFinal['PopularityScore']==0].groupby(['Year']).count()"
      ],
      "execution_count": null,
      "outputs": [
        {
          "output_type": "execute_result",
          "data": {
            "text/html": [
              "<div>\n",
              "<style scoped>\n",
              "    .dataframe tbody tr th:only-of-type {\n",
              "        vertical-align: middle;\n",
              "    }\n",
              "\n",
              "    .dataframe tbody tr th {\n",
              "        vertical-align: top;\n",
              "    }\n",
              "\n",
              "    .dataframe thead th {\n",
              "        text-align: right;\n",
              "    }\n",
              "</style>\n",
              "<table border=\"1\" class=\"dataframe\">\n",
              "  <thead>\n",
              "    <tr style=\"text-align: right;\">\n",
              "      <th></th>\n",
              "      <th>acousticness</th>\n",
              "      <th>danceability</th>\n",
              "      <th>analysis_url</th>\n",
              "      <th>duration_ms</th>\n",
              "      <th>energy</th>\n",
              "      <th>track_id</th>\n",
              "      <th>instrumentalness</th>\n",
              "      <th>key</th>\n",
              "      <th>liveness</th>\n",
              "      <th>loudness</th>\n",
              "      <th>mode</th>\n",
              "      <th>speechiness</th>\n",
              "      <th>tempo</th>\n",
              "      <th>time_signature</th>\n",
              "      <th>track_href</th>\n",
              "      <th>uri</th>\n",
              "      <th>valence</th>\n",
              "      <th>Artist</th>\n",
              "      <th>Track</th>\n",
              "      <th>NoOfMarkets</th>\n",
              "      <th>PopularityScore</th>\n",
              "    </tr>\n",
              "    <tr>\n",
              "      <th>Year</th>\n",
              "      <th></th>\n",
              "      <th></th>\n",
              "      <th></th>\n",
              "      <th></th>\n",
              "      <th></th>\n",
              "      <th></th>\n",
              "      <th></th>\n",
              "      <th></th>\n",
              "      <th></th>\n",
              "      <th></th>\n",
              "      <th></th>\n",
              "      <th></th>\n",
              "      <th></th>\n",
              "      <th></th>\n",
              "      <th></th>\n",
              "      <th></th>\n",
              "      <th></th>\n",
              "      <th></th>\n",
              "      <th></th>\n",
              "      <th></th>\n",
              "      <th></th>\n",
              "    </tr>\n",
              "  </thead>\n",
              "  <tbody>\n",
              "    <tr>\n",
              "      <th>2020</th>\n",
              "      <td>605</td>\n",
              "      <td>605</td>\n",
              "      <td>605</td>\n",
              "      <td>605</td>\n",
              "      <td>605</td>\n",
              "      <td>605</td>\n",
              "      <td>605</td>\n",
              "      <td>605</td>\n",
              "      <td>605</td>\n",
              "      <td>605</td>\n",
              "      <td>605</td>\n",
              "      <td>605</td>\n",
              "      <td>605</td>\n",
              "      <td>605</td>\n",
              "      <td>605</td>\n",
              "      <td>605</td>\n",
              "      <td>605</td>\n",
              "      <td>605</td>\n",
              "      <td>605</td>\n",
              "      <td>605</td>\n",
              "      <td>605</td>\n",
              "    </tr>\n",
              "  </tbody>\n",
              "</table>\n",
              "</div>"
            ],
            "text/plain": [
              "      acousticness  danceability  ...  NoOfMarkets  PopularityScore\n",
              "Year                              ...                              \n",
              "2020           605           605  ...          605              605\n",
              "\n",
              "[1 rows x 21 columns]"
            ]
          },
          "metadata": {
            "tags": []
          },
          "execution_count": 26
        }
      ]
    },
    {
      "cell_type": "code",
      "metadata": {
        "id": "bHCy1eORFTJ8",
        "colab_type": "code",
        "colab": {
          "base_uri": "https://localhost:8080/",
          "height": 435
        },
        "outputId": "bc4ac6e7-b252-4ed9-ad5b-2544cfd30ee7"
      },
      "source": [
        "# float64 precision should not be needed\n",
        "DataEight.dtypes"
      ],
      "execution_count": null,
      "outputs": [
        {
          "output_type": "execute_result",
          "data": {
            "text/plain": [
              "acousticness        float64\n",
              "danceability        float64\n",
              "analysis_url         object\n",
              "duration_ms           int64\n",
              "energy              float64\n",
              "track_id             object\n",
              "instrumentalness    float64\n",
              "key                   int64\n",
              "liveness            float64\n",
              "loudness            float64\n",
              "mode                  int64\n",
              "speechiness         float64\n",
              "tempo               float64\n",
              "time_signature        int64\n",
              "track_href           object\n",
              "uri                  object\n",
              "valence             float64\n",
              "Artist               object\n",
              "Track                object\n",
              "NoOfMarkets           int64\n",
              "PopularityScore       int64\n",
              "Year                  int64\n",
              "dtype: object"
            ]
          },
          "metadata": {
            "tags": []
          },
          "execution_count": 27
        }
      ]
    },
    {
      "cell_type": "code",
      "metadata": {
        "id": "h-3aZ6vzZChW",
        "colab_type": "code",
        "colab": {}
      },
      "source": [
        "\n",
        "def func(x):\n",
        "  if x>8:\n",
        "    x=1\n",
        "  else:\n",
        "    x=0\n",
        "  return x\n"
      ],
      "execution_count": null,
      "outputs": []
    },
    {
      "cell_type": "code",
      "metadata": {
        "id": "Egz9WRSOaRvg",
        "colab_type": "code",
        "colab": {}
      },
      "source": [
        "#Function to Quantize Popularity Score on Popular -1 & Not Popular - 0\n",
        "def PopQuant(Data):\n",
        " DataNumerical=Data.drop(['track_href','uri','Track','track_id','analysis_url','Artist','Year'],axis=1)\n",
        " DataNumerical['PopQuant']=pd.qcut(Data['PopularityScore'],10,labels=[0,1,2,3,4,5,6,7,8,9])\n",
        " out,bin=pd.qcut(DataNumerical['PopularityScore'],10,retbins=True)\n",
        " print(\"Binned Popularity according to 10 quantiles\",bin)\n",
        " DataNumerical['PopQuant']=DataNumerical['PopQuant'].map(lambda x: func(x))\n",
        " return DataNumerical\n",
        "\n",
        "\n"
      ],
      "execution_count": null,
      "outputs": []
    },
    {
      "cell_type": "code",
      "metadata": {
        "id": "SvkF1ku9-4ef",
        "colab_type": "code",
        "colab": {}
      },
      "source": [
        "# Log transformation function / added arbriraty constants since data cannot be negative or 0\n",
        "def transform(Data):\n",
        " Data['speechiness'], _ = stats.boxcox(Data['speechiness']+0.0000001)  \n",
        " Data['loudness'], _ = stats.boxcox(Data['loudness']-np.min(Data['loudness'])+0.0000001)  \n",
        " Data['liveness'] ,_ = stats.boxcox(Data['liveness']+0.0000001) \n",
        " Data['instrumentalness'] ,_ = stats.boxcox(Data['instrumentalness']+0.0000001)\n",
        " Data['duration_ms'] ,_ = stats.boxcox(Data['duration_ms'])  \n",
        " Data['NoOfMarkets'] ,_ = stats.boxcox(Data['NoOfMarkets']+1)          \n",
        " xt_= (Data['speechiness'] - np.mean(Data['speechiness']) )/ np.std(Data['speechiness'])\n",
        " xt_1= (Data['loudness'] - np.mean(Data['loudness']) )/ np.std(Data['loudness'])\n",
        " xt_2= (Data['liveness'] - np.mean(Data['liveness']) )/ np.std(Data['liveness'])\n",
        " xt_3= (Data['instrumentalness'] - np.mean(Data['instrumentalness']) )/ np.std(Data['instrumentalness'])\n",
        " xt_4= (Data['duration_ms'] - np.mean(Data['duration_ms']) )/ np.std(Data['duration_ms'])\n",
        " xt_5= (Data['danceability'] - np.mean(Data['danceability']) )/ np.std(Data['danceability'])\n",
        " xt_6= (Data['energy'] - np.mean(Data['energy']) )/ np.std(Data['energy'])\n",
        " xt_7= (Data['valence'] - np.mean(Data['valence']) )/ np.std(Data['valence'])\n",
        " xt_8= (Data['NoOfMarkets'] - np.mean(Data['NoOfMarkets']) )/ np.std(Data['NoOfMarkets'])\n",
        " Data['speechiness']=xt_\n",
        " Data['loudness']=xt_1\n",
        " Data['liveness']=xt_2\n",
        " Data['instrumentalness']=xt_3\n",
        " Data['duration_ms'] = xt_4\n",
        " Data['danceability'] = xt_5\n",
        " Data['energy'] = xt_6\n",
        " Data['valence'] =xt_7\n",
        " Data['NoOfMarkets'] =xt_8\n",
        "  \n",
        "\n",
        " return Data['speechiness'],Data['loudness'],Data['liveness'],Data['instrumentalness'],Data['duration_ms'],Data['danceability'],Data['energy'],Data['valence'],Data['NoOfMarkets']\n",
        "\n"
      ],
      "execution_count": null,
      "outputs": []
    },
    {
      "cell_type": "code",
      "metadata": {
        "id": "QLDzxxtNr9zh",
        "colab_type": "code",
        "colab": {}
      },
      "source": [
        "# function for correlation heatmap\n",
        "def heat_map(DataFinal,title):\n",
        " DataNumerical=PopQuant(DataFinal)\n",
        " print(title,\":\")\n",
        "\n",
        " f, ax = plt.subplots(figsize=(7, 7))\n",
        " corr_matrix=DataNumerical[['danceability','energy','loudness','valence','liveness','tempo','PopQuant','acousticness','duration_ms','instrumentalness']].corr()\n",
        " heatmap = sns.heatmap(corr_matrix,linewidths=.5,annot=True)\n",
        " plt.savefig(f'HeatMap_{title}.png' )\n",
        " files.download(f'HeatMap_{title}.png' )\n",
        "\n",
        " ax.set_yticklabels(corr_matrix.columns, rotation = 0)\n",
        " ax.set_xticklabels(corr_matrix.columns)\n",
        " ax.set_title(title)\n",
        " sns.set_style({'xtick.bottom': True}, {'ytick.left': True} )"
      ],
      "execution_count": null,
      "outputs": []
    },
    {
      "cell_type": "code",
      "metadata": {
        "id": "RC-PAF_cJZ2M",
        "colab_type": "code",
        "colab": {}
      },
      "source": [
        "\n",
        "def pairplot(Data,title):\n",
        " DataNumerical=PopQuant(Data)\n",
        " sns.pairplot(DataNumerical[['danceability','energy','loudness','valence','liveness','tempo','PopQuant','acousticness','instrumentalness']],hue='PopQuant',kind='reg')\n",
        " plt.savefig('PairPlot.png' )\n",
        " files.download('PairPlot.png' )\n"
      ],
      "execution_count": null,
      "outputs": []
    },
    {
      "cell_type": "code",
      "metadata": {
        "id": "WFAb5LU_cT1d",
        "colab_type": "code",
        "colab": {}
      },
      "source": [
        "pairplot(DataTen,'10s')"
      ],
      "execution_count": null,
      "outputs": []
    },
    {
      "cell_type": "code",
      "metadata": {
        "id": "tRgD2AtOLWv3",
        "colab_type": "code",
        "colab": {}
      },
      "source": [
        "heat_map(DataEight,'80s')\n",
        "heat_map(DataNine,'90s')\n",
        "heat_map(DataZero,'00s')\n",
        "heat_map(DataTen,'10s')"
      ],
      "execution_count": null,
      "outputs": []
    },
    {
      "cell_type": "code",
      "metadata": {
        "id": "sxojQEIukOsj",
        "colab_type": "code",
        "colab": {}
      },
      "source": [
        "#probability for categorical variables being popular or not\n",
        "def pop_prob(Data):\n",
        " DataNumerical=PopQuant(Data)\n",
        " print(DataNumerical[['mode','PopQuant']].groupby('mode').mean().sort_values(by=\"PopQuant\",ascending = False))\n",
        " print(DataNumerical[['time_signature','PopQuant']].groupby('time_signature').mean().sort_values(by=\"PopQuant\",ascending = False))\n",
        " print(DataNumerical[['key','PopQuant']].groupby('key').mean().sort_values(by=\"PopQuant\",ascending = False))\n",
        " \n",
        "\n"
      ],
      "execution_count": null,
      "outputs": []
    },
    {
      "cell_type": "code",
      "metadata": {
        "id": "LQ2oR-e_aaru",
        "colab_type": "code",
        "colab": {
          "base_uri": "https://localhost:8080/",
          "height": 490
        },
        "outputId": "8ab0ab7c-b2a9-4ab0-ec8e-804e34099a45"
      },
      "source": [
        "# 1/10 data is popular, so any more aggregrate than that could be an indication for popularity, Doesn't look like mode,time_signature or key is important\n",
        "pop_prob(DataTen)"
      ],
      "execution_count": null,
      "outputs": [
        {
          "output_type": "stream",
          "text": [
            "Binned Popularity according to 10 quantiles [41. 49. 52. 55. 57. 60. 62. 65. 68. 72. 97.]\n",
            "      PopQuant\n",
            "mode          \n",
            "0     0.104767\n",
            "1     0.086893\n",
            "                PopQuant\n",
            "time_signature          \n",
            "0               0.136364\n",
            "4               0.096114\n",
            "5               0.095082\n",
            "3               0.055094\n",
            "1               0.043796\n",
            "     PopQuant\n",
            "key          \n",
            "6    0.105335\n",
            "8    0.105157\n",
            "1    0.102372\n",
            "11   0.097716\n",
            "10   0.096083\n",
            "5    0.093252\n",
            "0    0.091070\n",
            "7    0.087421\n",
            "2    0.085466\n",
            "4    0.084093\n",
            "3    0.083333\n",
            "9    0.082564\n"
          ],
          "name": "stdout"
        }
      ]
    },
    {
      "cell_type": "code",
      "metadata": {
        "id": "trSA5X7bLE1W",
        "colab_type": "code",
        "colab": {}
      },
      "source": [
        "def DataNumerical(Data):\n",
        "  DataNumerical=PopQuant(Data)\n",
        "  y=DataNumerical['PopQuant']\n",
        "  x=DataNumerical[['danceability','energy','loudness','valence','liveness','tempo','acousticness','duration_ms','instrumentalness']]\n",
        "  return np.array(x),np.array(y)"
      ],
      "execution_count": null,
      "outputs": []
    },
    {
      "cell_type": "code",
      "metadata": {
        "id": "uKD1E4NVLIGq",
        "colab_type": "code",
        "colab": {}
      },
      "source": [
        "def DataCategorical(data):\n",
        "  DataCategorical=PopQuant(Data)\n",
        "  y=DataCategorical['PopQuant']\n",
        "  x=DataCategorical[['mode','time_signature','key']]\n",
        "  return x,y"
      ],
      "execution_count": null,
      "outputs": []
    },
    {
      "cell_type": "code",
      "metadata": {
        "id": "LsuAFXHnFaJT",
        "colab_type": "code",
        "colab": {}
      },
      "source": [
        "# Function to calculate one-way-anova\n",
        "def calculateStat(Numerical , Categorical): \n",
        "    fValue={}\n",
        "    pValue={}\n",
        "    scaler = StandardScaler()\n",
        "    Numerical = scaler.fit_transform(Numerical)\n",
        "    column=['danceability','energy','loudness','valence','liveness','tempo','acousticness','duration_ms','instrumentalness']\n",
        "    var_1 = Numerical[Categorical==1] \n",
        "    var_0 = Numerical[Categorical==0] \n",
        "    for i,col in enumerate(column):\n",
        "     fValue[col], pValue[col] = stats.f_oneway(var_1[:,i], var_0[:,i])\n",
        "    value=pd.DataFrame([fValue,pValue],index=['f','pValue'])\n",
        "    return value\n",
        " "
      ],
      "execution_count": null,
      "outputs": []
    },
    {
      "cell_type": "code",
      "metadata": {
        "id": "itnXfjXZKx_j",
        "colab_type": "code",
        "colab": {}
      },
      "source": [
        "transform(DataTen)\n",
        "x,y=DataNumerical(DataTen)\n",
        "calculateStat(x,y)"
      ],
      "execution_count": null,
      "outputs": []
    },
    {
      "cell_type": "code",
      "metadata": {
        "id": "HbdijRpxO_rQ",
        "colab_type": "code",
        "colab": {}
      },
      "source": [
        "\n",
        "def one_hot_encode(Data):\n",
        "  Data = pd.get_dummies(Data, columns=['mode','time_signature','key'])\n",
        "  return Data\n"
      ],
      "execution_count": null,
      "outputs": []
    },
    {
      "cell_type": "code",
      "metadata": {
        "id": "nKt9dGJ2gabE",
        "colab_type": "code",
        "colab": {}
      },
      "source": [
        "\n",
        "def reduce_mem_usage(df):\n",
        "\n",
        "    start_mem = df.memory_usage().sum() / 1024**2\n",
        "    print('Memory usage of dataframe is {:.2f} MB'.format(start_mem))\n",
        "    for col in df.columns:\n",
        "        col_type = df[col].dtype\n",
        "        \n",
        "        if col_type != object:\n",
        "            if str(col_type)[:3] == 'int':   \n",
        "              df[col] = df[col].astype(np.int8)\n",
        "            else:\n",
        "              df[col] = df[col].astype(np.float16)\n",
        "        else:\n",
        "            df[col] = df[col].astype('category')\n",
        "\n",
        "    end_mem = df.memory_usage().sum() / 1024**2\n",
        "    print('Memory usage after optimization is: {:.2f} MB'.format(end_mem))\n",
        "    print('Decreased by {:.1f}%'.format(100 * (start_mem - end_mem) / start_mem))\n",
        "    \n",
        "    return df"
      ],
      "execution_count": null,
      "outputs": []
    },
    {
      "cell_type": "code",
      "metadata": {
        "id": "MhsQewMGDLEI",
        "colab_type": "code",
        "colab": {}
      },
      "source": [
        "# Prepare the training variables, for Randomforest it was not necessary to one hot encode ( or to scale, but I did that anyway)\n",
        "def trainvar(Data,scaling,test_size,modeltype,forest):\n",
        " DataNi=PopQuant(Data)\n",
        " reduce_mem_usage(DataNi)\n",
        " DataY=DataNi['PopQuant']\n",
        " DataY_=DataNi['PopularityScore']\n",
        " if forest==True:\n",
        "  DataX=DataNi\n",
        " else:\n",
        "  DataX=one_hot_encode(DataNi)\n",
        " DataX=DataX.drop(['PopularityScore','PopQuant'],axis=1)\n",
        " if scaling == 'standard' :\n",
        "  scaler_=StandardScaler()\n",
        "  DataX_=scaler_.fit_transform(DataX)\n",
        " if scaling == 'minmax':\n",
        "  scaler=MinMaxScaler(feature_range = (0,1))\n",
        "  DataX_=scaler.fit_transform(DataX)\n",
        " else:\n",
        "  DataX_=DataX\n",
        " if modeltype == 'regression':\n",
        "  X_train, X_test, y_train, y_test = train_test_split(DataX_,DataY_ ,test_size=test_size)\n",
        " else:\n",
        "  X_train, X_test, y_train, y_test = train_test_split(DataX_,DataY ,test_size=test_size)\n",
        " return X_train, X_test, y_train, y_test"
      ],
      "execution_count": null,
      "outputs": []
    },
    {
      "cell_type": "code",
      "metadata": {
        "id": "pGyAl7_2OeLL",
        "colab_type": "code",
        "colab": {
          "base_uri": "https://localhost:8080/",
          "height": 308
        },
        "outputId": "74db9179-b397-4d3c-c066-c00782b2bcfc"
      },
      "source": [
        "\n",
        "X_train, X_test, y_train, y_test = trainvar(DataTen,'minmax',0.25,'regression',True)\n",
        "y_train\n",
        "\n"
      ],
      "execution_count": null,
      "outputs": [
        {
          "output_type": "stream",
          "text": [
            "Binned Popularity according to 10 quantiles [41. 49. 52. 55. 57. 60. 62. 65. 68. 72. 97.]\n",
            "Memory usage of dataframe is 2.59 MB\n",
            "Memory usage after optimization is: 0.63 MB\n",
            "Decreased by 75.7%\n"
          ],
          "name": "stdout"
        },
        {
          "output_type": "execute_result",
          "data": {
            "text/plain": [
              "67672    47\n",
              "72889    61\n",
              "75565    58\n",
              "78222    79\n",
              "67061    55\n",
              "         ..\n",
              "63667    43\n",
              "68173    64\n",
              "66765    52\n",
              "74791    63\n",
              "62083    65\n",
              "Name: PopularityScore, Length: 14999, dtype: int8"
            ]
          },
          "metadata": {
            "tags": []
          },
          "execution_count": 54
        }
      ]
    },
    {
      "cell_type": "code",
      "metadata": {
        "id": "RVOI0gAdA4kN",
        "colab_type": "code",
        "colab": {}
      },
      "source": [
        "# Function for confusion matrix\n",
        "def conf(model,y_test,yHat):\n",
        " cm=confusion_matrix(y_test,yHat)\n",
        " print(classification_report(y_test,yHat))\n",
        " sns.heatmap(cm,linewidths=0.5,annot=True)\n"
      ],
      "execution_count": null,
      "outputs": []
    },
    {
      "cell_type": "code",
      "metadata": {
        "id": "Cd8wO18xllkb",
        "colab_type": "code",
        "colab": {}
      },
      "source": [
        "# To calculate feature importance\n",
        "def feat_imp(model,Data,type):\n",
        " DataNi=PopQuant(Data)\n",
        " DataX=one_hot_encode(DataNi)\n",
        " DataX=DataX.drop(['PopularityScore','PopQuant'],axis=1)\n",
        " DataX_=PopQuant(Data)\n",
        " DataX_=DataX_.drop(['PopularityScore','PopQuant'],axis=1)\n",
        " if type == 'nonforest':\n",
        "  importance = model.coef_[0]\n",
        " else:\n",
        "  importance = model.feature_importances_\n",
        " for i,v in zip(DataX.columns,importance):\n",
        "  print(i,' : %.5f'%(v))\n",
        " fig=plt.figure(figsize=(20,20))\n",
        " if type=='nonforest':\n",
        "  plt.subplot(2,1,1)\n",
        "  plt.bar(DataX.columns[:10],importance[:10])\n",
        "  plt.savefig('feature_imp_1.png' )\n",
        "  files.download('feature_imp_1.png' )\n",
        "  plt.subplot(2,1,2)\n",
        "  plt.bar(DataX.columns[10:30],importance[10:30])\n",
        "  plt.tick_params(labelsize=5)\n",
        "  plt.savefig('feature_imp_2.png' )\n",
        "  files.download('feature_imp_2.png' )\n",
        " else:\n",
        "  plt.bar(DataX_.columns,importance)\n",
        "  plt.savefig('feature_imp.png' )\n",
        "  files.download('feature_imp.png' )\n"
      ],
      "execution_count": null,
      "outputs": []
    },
    {
      "cell_type": "code",
      "metadata": {
        "id": "RtfSF4kndJhB",
        "colab_type": "code",
        "colab": {}
      },
      "source": [
        "# Function to calculate AUC of ROC\n",
        "def ROC(X_test,X_train,y_train,y_test,clf,modelname):\n",
        " NS = [0 for _ in range(len(y_test))]\n",
        " modelprob = clf.predict_proba(X_test)\n",
        " modelprob=modelprob[:,1]\n",
        " modelprob_t = clf.predict_proba(X_train)\n",
        " modelprob_t=modelprob_t[:,1]\n",
        " ns_auc = roc_auc_score(y_test, NS )\n",
        " m_auc = roc_auc_score(y_test, modelprob)\n",
        " m_auc_t = roc_auc_score(y_train, modelprob_t)\n",
        " print('No Skill: ROC AUC=%.3f' % (ns_auc))\n",
        " print(modelname,': test ROC AUC=%.3f' % (m_auc))\n",
        " print(modelname,':train ROC AUC=%.3f' % (m_auc_t))\n",
        " m_fpr_,m_tpr_, _ = roc_curve(y_test, NS)\n",
        " m_fpr, m_tpr, _ = roc_curve(y_test, modelprob)\n",
        " m_fpr_t, m_tpr_t, _ = roc_curve(y_train, modelprob_t)\n",
        " fig=plt.figure(figsize=(10,10))\n",
        " plt.plot(m_fpr_, m_tpr_, linestyle='dashed', label='No Skill')\n",
        " plt.plot(m_fpr, m_tpr, marker='x', label='test')\n",
        " plt.plot(m_fpr_t, m_tpr_t, marker='.', label='train')\n",
        " plt.xlabel('False Positive Rate')\n",
        " plt.ylabel('True Positive Rate')\n",
        " plt.legend()\n",
        " plt.savefig(f'ROC_{modelname}.png' )\n",
        " files.download(f'ROC_{modelname}.png' )\n",
        "\n",
        " plt.show()\n"
      ],
      "execution_count": null,
      "outputs": []
    },
    {
      "cell_type": "code",
      "metadata": {
        "id": "nJjlhHKlpv1x",
        "colab_type": "code",
        "colab": {
          "base_uri": "https://localhost:8080/",
          "height": 1000
        },
        "outputId": "a14cb6d9-6255-43e9-8e96-03c11f94f4d3"
      },
      "source": [
        "# Grid Search for best logistic Regression Model \n",
        "param= {\n",
        "     'solver' : ['lbfgs', 'liblinear','sag','saga'],\n",
        "     'C' : np.logspace(0.01, 3 , num=10)}\n",
        "\n",
        "m_auc=0\n",
        "best_model = LogisticRegression(class_weight='balanced',random_state=0)\n",
        "accuracy=0\n",
        "dict_param_={ }\n",
        "for solver in param['solver']:\n",
        "  for C in param['C']:\n",
        "    model=LogisticRegression(solver=solver,C=C,random_state=0,max_iter=100,n_jobs=-1,class_weight='balanced')\n",
        "    model.fit(X_train,y_train)\n",
        "    y_pred=model.predict(X_test)\n",
        "    curr_accuracy=accuracy_score(y_test,y_pred)\n",
        "    modelprob=model.predict_proba(X_test)\n",
        "    modelprob=modelprob[:,1]\n",
        "    curr_m_auc = roc_auc_score(y_test, modelprob) \n",
        "    dict_param_[(solver,C)]=curr_m_auc\n",
        "    print(\"for params :\",solver,\" \",C,\" the ROC AUC is  : \",dict_param_[(solver,C)])\n",
        "    if curr_m_auc > m_auc:\n",
        "      m_auc=curr_m_auc\n",
        "      best_model=model\n",
        "\n",
        "\n",
        "\n",
        "\n",
        "best_model\n"
      ],
      "execution_count": null,
      "outputs": [
        {
          "output_type": "stream",
          "text": [
            "for params : lbfgs   1.023292992280754  the ROC AUC is  :  0.6991751983276159\n",
            "for params : lbfgs   2.19898477375354  the ROC AUC is  :  0.7003972221764085\n",
            "for params : lbfgs   4.725463842395996  the ROC AUC is  :  0.7008616015470377\n",
            "for params : lbfgs   10.154689924330807  the ROC AUC is  :  0.7012332081244228\n",
            "for params : lbfgs   21.821715475664465  the ROC AUC is  :  0.7013208268735981\n",
            "for params : lbfgs   46.89333400125802  the ROC AUC is  :  0.701291964226811\n",
            "for params : lbfgs   100.77048141361044  the ROC AUC is  :  0.7013125804030874\n",
            "for params : lbfgs   216.54868736904876  the ROC AUC is  :  0.7013280425352949\n",
            "for params : lbfgs   465.34792077439084  the ROC AUC is  :  0.7013445354763161\n",
            "for params : lbfgs   1000.0  the ROC AUC is  :  0.7013481433071646\n",
            "for params : liblinear   1.023292992280754  the ROC AUC is  :  0.6983510666809605\n"
          ],
          "name": "stdout"
        },
        {
          "output_type": "stream",
          "text": [
            "/usr/local/lib/python3.6/dist-packages/sklearn/linear_model/_logistic.py:1539: UserWarning: 'n_jobs' > 1 does not have any effect when 'solver' is set to 'liblinear'. Got 'n_jobs' = 2.\n",
            "  \" = {}.\".format(effective_n_jobs(self.n_jobs)))\n",
            "/usr/local/lib/python3.6/dist-packages/sklearn/linear_model/_logistic.py:1539: UserWarning: 'n_jobs' > 1 does not have any effect when 'solver' is set to 'liblinear'. Got 'n_jobs' = 2.\n",
            "  \" = {}.\".format(effective_n_jobs(self.n_jobs)))\n"
          ],
          "name": "stderr"
        },
        {
          "output_type": "stream",
          "text": [
            "for params : liblinear   2.19898477375354  the ROC AUC is  :  0.6998704788725425\n",
            "for params : liblinear   4.725463842395996  the ROC AUC is  :  0.7006626554459691\n"
          ],
          "name": "stdout"
        },
        {
          "output_type": "stream",
          "text": [
            "/usr/local/lib/python3.6/dist-packages/sklearn/linear_model/_logistic.py:1539: UserWarning: 'n_jobs' > 1 does not have any effect when 'solver' is set to 'liblinear'. Got 'n_jobs' = 2.\n",
            "  \" = {}.\".format(effective_n_jobs(self.n_jobs)))\n",
            "/usr/local/lib/python3.6/dist-packages/sklearn/linear_model/_logistic.py:1539: UserWarning: 'n_jobs' > 1 does not have any effect when 'solver' is set to 'liblinear'. Got 'n_jobs' = 2.\n",
            "  \" = {}.\".format(effective_n_jobs(self.n_jobs)))\n"
          ],
          "name": "stderr"
        },
        {
          "output_type": "stream",
          "text": [
            "for params : liblinear   10.154689924330807  the ROC AUC is  :  0.7010316850013194\n",
            "for params : liblinear   21.821715475664465  the ROC AUC is  :  0.7012337235288295\n"
          ],
          "name": "stdout"
        },
        {
          "output_type": "stream",
          "text": [
            "/usr/local/lib/python3.6/dist-packages/sklearn/linear_model/_logistic.py:1539: UserWarning: 'n_jobs' > 1 does not have any effect when 'solver' is set to 'liblinear'. Got 'n_jobs' = 2.\n",
            "  \" = {}.\".format(effective_n_jobs(self.n_jobs)))\n",
            "/usr/local/lib/python3.6/dist-packages/sklearn/linear_model/_logistic.py:1539: UserWarning: 'n_jobs' > 1 does not have any effect when 'solver' is set to 'liblinear'. Got 'n_jobs' = 2.\n",
            "  \" = {}.\".format(effective_n_jobs(self.n_jobs)))\n"
          ],
          "name": "stderr"
        },
        {
          "output_type": "stream",
          "text": [
            "for params : liblinear   46.89333400125802  the ROC AUC is  :  0.7012935104400316\n",
            "for params : liblinear   100.77048141361044  the ROC AUC is  :  0.7013234038956326\n"
          ],
          "name": "stdout"
        },
        {
          "output_type": "stream",
          "text": [
            "/usr/local/lib/python3.6/dist-packages/sklearn/linear_model/_logistic.py:1539: UserWarning: 'n_jobs' > 1 does not have any effect when 'solver' is set to 'liblinear'. Got 'n_jobs' = 2.\n",
            "  \" = {}.\".format(effective_n_jobs(self.n_jobs)))\n",
            "/usr/local/lib/python3.6/dist-packages/sklearn/linear_model/_logistic.py:1539: UserWarning: 'n_jobs' > 1 does not have any effect when 'solver' is set to 'liblinear'. Got 'n_jobs' = 2.\n",
            "  \" = {}.\".format(effective_n_jobs(self.n_jobs)))\n"
          ],
          "name": "stderr"
        },
        {
          "output_type": "stream",
          "text": [
            "for params : liblinear   216.54868736904876  the ROC AUC is  :  0.7013429892630954\n",
            "for params : liblinear   465.34792077439084  the ROC AUC is  :  0.7013445354763161\n"
          ],
          "name": "stdout"
        },
        {
          "output_type": "stream",
          "text": [
            "/usr/local/lib/python3.6/dist-packages/sklearn/linear_model/_logistic.py:1539: UserWarning: 'n_jobs' > 1 does not have any effect when 'solver' is set to 'liblinear'. Got 'n_jobs' = 2.\n",
            "  \" = {}.\".format(effective_n_jobs(self.n_jobs)))\n",
            "/usr/local/lib/python3.6/dist-packages/sklearn/linear_model/_logistic.py:1539: UserWarning: 'n_jobs' > 1 does not have any effect when 'solver' is set to 'liblinear'. Got 'n_jobs' = 2.\n",
            "  \" = {}.\".format(effective_n_jobs(self.n_jobs)))\n"
          ],
          "name": "stderr"
        },
        {
          "output_type": "stream",
          "text": [
            "for params : liblinear   1000.0  the ROC AUC is  :  0.7013491741159784\n"
          ],
          "name": "stdout"
        },
        {
          "output_type": "stream",
          "text": [
            "/usr/local/lib/python3.6/dist-packages/sklearn/linear_model/_sag.py:330: ConvergenceWarning: The max_iter was reached which means the coef_ did not converge\n",
            "  \"the coef_ did not converge\", ConvergenceWarning)\n"
          ],
          "name": "stderr"
        },
        {
          "output_type": "stream",
          "text": [
            "for params : sag   1.023292992280754  the ROC AUC is  :  0.6228453518768966\n"
          ],
          "name": "stdout"
        },
        {
          "output_type": "stream",
          "text": [
            "/usr/local/lib/python3.6/dist-packages/sklearn/linear_model/_sag.py:330: ConvergenceWarning: The max_iter was reached which means the coef_ did not converge\n",
            "  \"the coef_ did not converge\", ConvergenceWarning)\n"
          ],
          "name": "stderr"
        },
        {
          "output_type": "stream",
          "text": [
            "for params : sag   2.19898477375354  the ROC AUC is  :  0.6577681236805648\n"
          ],
          "name": "stdout"
        },
        {
          "output_type": "stream",
          "text": [
            "/usr/local/lib/python3.6/dist-packages/sklearn/linear_model/_sag.py:330: ConvergenceWarning: The max_iter was reached which means the coef_ did not converge\n",
            "  \"the coef_ did not converge\", ConvergenceWarning)\n"
          ],
          "name": "stderr"
        },
        {
          "output_type": "stream",
          "text": [
            "for params : sag   4.725463842395996  the ROC AUC is  :  0.6053504646886132\n"
          ],
          "name": "stdout"
        },
        {
          "output_type": "stream",
          "text": [
            "/usr/local/lib/python3.6/dist-packages/sklearn/linear_model/_sag.py:330: ConvergenceWarning: The max_iter was reached which means the coef_ did not converge\n",
            "  \"the coef_ did not converge\", ConvergenceWarning)\n"
          ],
          "name": "stderr"
        },
        {
          "output_type": "stream",
          "text": [
            "for params : sag   10.154689924330807  the ROC AUC is  :  0.6778091086390026\n"
          ],
          "name": "stdout"
        },
        {
          "output_type": "stream",
          "text": [
            "/usr/local/lib/python3.6/dist-packages/sklearn/linear_model/_sag.py:330: ConvergenceWarning: The max_iter was reached which means the coef_ did not converge\n",
            "  \"the coef_ did not converge\", ConvergenceWarning)\n"
          ],
          "name": "stderr"
        },
        {
          "output_type": "stream",
          "text": [
            "for params : sag   21.821715475664465  the ROC AUC is  :  0.6478388577813694\n"
          ],
          "name": "stdout"
        },
        {
          "output_type": "stream",
          "text": [
            "/usr/local/lib/python3.6/dist-packages/sklearn/linear_model/_sag.py:330: ConvergenceWarning: The max_iter was reached which means the coef_ did not converge\n",
            "  \"the coef_ did not converge\", ConvergenceWarning)\n"
          ],
          "name": "stderr"
        },
        {
          "output_type": "stream",
          "text": [
            "for params : sag   46.89333400125802  the ROC AUC is  :  0.6614955283513656\n"
          ],
          "name": "stdout"
        },
        {
          "output_type": "stream",
          "text": [
            "/usr/local/lib/python3.6/dist-packages/sklearn/linear_model/_sag.py:330: ConvergenceWarning: The max_iter was reached which means the coef_ did not converge\n",
            "  \"the coef_ did not converge\", ConvergenceWarning)\n"
          ],
          "name": "stderr"
        },
        {
          "output_type": "stream",
          "text": [
            "for params : sag   100.77048141361044  the ROC AUC is  :  0.6773117433863307\n"
          ],
          "name": "stdout"
        },
        {
          "output_type": "stream",
          "text": [
            "/usr/local/lib/python3.6/dist-packages/sklearn/linear_model/_sag.py:330: ConvergenceWarning: The max_iter was reached which means the coef_ did not converge\n",
            "  \"the coef_ did not converge\", ConvergenceWarning)\n"
          ],
          "name": "stderr"
        },
        {
          "output_type": "stream",
          "text": [
            "for params : sag   216.54868736904876  the ROC AUC is  :  0.6411406621091172\n"
          ],
          "name": "stdout"
        },
        {
          "output_type": "stream",
          "text": [
            "/usr/local/lib/python3.6/dist-packages/sklearn/linear_model/_sag.py:330: ConvergenceWarning: The max_iter was reached which means the coef_ did not converge\n",
            "  \"the coef_ did not converge\", ConvergenceWarning)\n"
          ],
          "name": "stderr"
        },
        {
          "output_type": "stream",
          "text": [
            "for params : sag   465.34792077439084  the ROC AUC is  :  0.6751248824877952\n"
          ],
          "name": "stdout"
        },
        {
          "output_type": "stream",
          "text": [
            "/usr/local/lib/python3.6/dist-packages/sklearn/linear_model/_sag.py:330: ConvergenceWarning: The max_iter was reached which means the coef_ did not converge\n",
            "  \"the coef_ did not converge\", ConvergenceWarning)\n"
          ],
          "name": "stderr"
        },
        {
          "output_type": "stream",
          "text": [
            "for params : sag   1000.0  the ROC AUC is  :  0.6631278141080619\n",
            "for params : saga   1.023292992280754  the ROC AUC is  :  0.6991963299082993\n"
          ],
          "name": "stdout"
        },
        {
          "output_type": "stream",
          "text": [
            "/usr/local/lib/python3.6/dist-packages/sklearn/linear_model/_sag.py:330: ConvergenceWarning: The max_iter was reached which means the coef_ did not converge\n",
            "  \"the coef_ did not converge\", ConvergenceWarning)\n"
          ],
          "name": "stderr"
        },
        {
          "output_type": "stream",
          "text": [
            "for params : saga   2.19898477375354  the ROC AUC is  :  0.7002920796773981\n"
          ],
          "name": "stdout"
        },
        {
          "output_type": "stream",
          "text": [
            "/usr/local/lib/python3.6/dist-packages/sklearn/linear_model/_sag.py:330: ConvergenceWarning: The max_iter was reached which means the coef_ did not converge\n",
            "  \"the coef_ did not converge\", ConvergenceWarning)\n"
          ],
          "name": "stderr"
        },
        {
          "output_type": "stream",
          "text": [
            "for params : saga   4.725463842395996  the ROC AUC is  :  0.7000147921064784\n"
          ],
          "name": "stdout"
        },
        {
          "output_type": "stream",
          "text": [
            "/usr/local/lib/python3.6/dist-packages/sklearn/linear_model/_sag.py:330: ConvergenceWarning: The max_iter was reached which means the coef_ did not converge\n",
            "  \"the coef_ did not converge\", ConvergenceWarning)\n"
          ],
          "name": "stderr"
        },
        {
          "output_type": "stream",
          "text": [
            "for params : saga   10.154689924330807  the ROC AUC is  :  0.6968620633493865\n"
          ],
          "name": "stdout"
        },
        {
          "output_type": "stream",
          "text": [
            "/usr/local/lib/python3.6/dist-packages/sklearn/linear_model/_sag.py:330: ConvergenceWarning: The max_iter was reached which means the coef_ did not converge\n",
            "  \"the coef_ did not converge\", ConvergenceWarning)\n"
          ],
          "name": "stderr"
        },
        {
          "output_type": "stream",
          "text": [
            "for params : saga   21.821715475664465  the ROC AUC is  :  0.6959992763722126\n"
          ],
          "name": "stdout"
        },
        {
          "output_type": "stream",
          "text": [
            "/usr/local/lib/python3.6/dist-packages/sklearn/linear_model/_sag.py:330: ConvergenceWarning: The max_iter was reached which means the coef_ did not converge\n",
            "  \"the coef_ did not converge\", ConvergenceWarning)\n"
          ],
          "name": "stderr"
        },
        {
          "output_type": "stream",
          "text": [
            "for params : saga   46.89333400125802  the ROC AUC is  :  0.6955158270385275\n"
          ],
          "name": "stdout"
        },
        {
          "output_type": "stream",
          "text": [
            "/usr/local/lib/python3.6/dist-packages/sklearn/linear_model/_sag.py:330: ConvergenceWarning: The max_iter was reached which means the coef_ did not converge\n",
            "  \"the coef_ did not converge\", ConvergenceWarning)\n"
          ],
          "name": "stderr"
        },
        {
          "output_type": "stream",
          "text": [
            "for params : saga   100.77048141361044  the ROC AUC is  :  0.6951710214903022\n"
          ],
          "name": "stdout"
        },
        {
          "output_type": "stream",
          "text": [
            "/usr/local/lib/python3.6/dist-packages/sklearn/linear_model/_sag.py:330: ConvergenceWarning: The max_iter was reached which means the coef_ did not converge\n",
            "  \"the coef_ did not converge\", ConvergenceWarning)\n"
          ],
          "name": "stderr"
        },
        {
          "output_type": "stream",
          "text": [
            "for params : saga   216.54868736904876  the ROC AUC is  :  0.6949906299478823\n"
          ],
          "name": "stdout"
        },
        {
          "output_type": "stream",
          "text": [
            "/usr/local/lib/python3.6/dist-packages/sklearn/linear_model/_sag.py:330: ConvergenceWarning: The max_iter was reached which means the coef_ did not converge\n",
            "  \"the coef_ did not converge\", ConvergenceWarning)\n"
          ],
          "name": "stderr"
        },
        {
          "output_type": "stream",
          "text": [
            "for params : saga   465.34792077439084  the ROC AUC is  :  0.6948607480373401\n",
            "for params : saga   1000.0  the ROC AUC is  :  0.694782921971896\n"
          ],
          "name": "stdout"
        },
        {
          "output_type": "stream",
          "text": [
            "/usr/local/lib/python3.6/dist-packages/sklearn/linear_model/_sag.py:330: ConvergenceWarning: The max_iter was reached which means the coef_ did not converge\n",
            "  \"the coef_ did not converge\", ConvergenceWarning)\n"
          ],
          "name": "stderr"
        },
        {
          "output_type": "execute_result",
          "data": {
            "text/plain": [
              "LogisticRegression(C=1000.0, class_weight='balanced', dual=False,\n",
              "                   fit_intercept=True, intercept_scaling=1, l1_ratio=None,\n",
              "                   max_iter=100, multi_class='auto', n_jobs=-1, penalty='l2',\n",
              "                   random_state=0, solver='liblinear', tol=0.0001, verbose=0,\n",
              "                   warm_start=False)"
            ]
          },
          "metadata": {
            "tags": []
          },
          "execution_count": 48
        }
      ]
    },
    {
      "cell_type": "code",
      "metadata": {
        "id": "Ty8gRbGts49N",
        "colab_type": "code",
        "colab": {}
      },
      "source": [
        "y_hat=best_model.predict(X_test)\n",
        "conf(best_model,y_test,y_hat)"
      ],
      "execution_count": null,
      "outputs": []
    },
    {
      "cell_type": "code",
      "metadata": {
        "id": "kWgXD-jA9Zsz",
        "colab_type": "code",
        "colab": {
          "base_uri": "https://localhost:8080/",
          "height": 661
        },
        "outputId": "687bf431-8040-4754-9498-0b14c0f5f1f2"
      },
      "source": [
        "ROC(X_test,X_train,y_train,y_test,best_model,'logistic')"
      ],
      "execution_count": null,
      "outputs": [
        {
          "output_type": "stream",
          "text": [
            "No Skill: ROC AUC=0.500\n",
            "logistic : test ROC AUC=0.701\n",
            "logistic :train ROC AUC=0.706\n"
          ],
          "name": "stdout"
        },
        {
          "output_type": "display_data",
          "data": {
            "application/javascript": [
              "\n",
              "    async function download(id, filename, size) {\n",
              "      if (!google.colab.kernel.accessAllowed) {\n",
              "        return;\n",
              "      }\n",
              "      const div = document.createElement('div');\n",
              "      const label = document.createElement('label');\n",
              "      label.textContent = `Downloading \"${filename}\": `;\n",
              "      div.appendChild(label);\n",
              "      const progress = document.createElement('progress');\n",
              "      progress.max = size;\n",
              "      div.appendChild(progress);\n",
              "      document.body.appendChild(div);\n",
              "\n",
              "      const buffers = [];\n",
              "      let downloaded = 0;\n",
              "\n",
              "      const channel = await google.colab.kernel.comms.open(id);\n",
              "      // Send a message to notify the kernel that we're ready.\n",
              "      channel.send({})\n",
              "\n",
              "      for await (const message of channel.messages) {\n",
              "        // Send a message to notify the kernel that we're ready.\n",
              "        channel.send({})\n",
              "        if (message.buffers) {\n",
              "          for (const buffer of message.buffers) {\n",
              "            buffers.push(buffer);\n",
              "            downloaded += buffer.byteLength;\n",
              "            progress.value = downloaded;\n",
              "          }\n",
              "        }\n",
              "      }\n",
              "      const blob = new Blob(buffers, {type: 'application/binary'});\n",
              "      const a = document.createElement('a');\n",
              "      a.href = window.URL.createObjectURL(blob);\n",
              "      a.download = filename;\n",
              "      div.appendChild(a);\n",
              "      a.click();\n",
              "      div.remove();\n",
              "    }\n",
              "  "
            ],
            "text/plain": [
              "<IPython.core.display.Javascript object>"
            ]
          },
          "metadata": {
            "tags": []
          }
        },
        {
          "output_type": "display_data",
          "data": {
            "application/javascript": [
              "download(\"download_46022a9c-4ddd-4f56-9279-80fee0179551\", \"ROC_logistic.png\", 40194)"
            ],
            "text/plain": [
              "<IPython.core.display.Javascript object>"
            ]
          },
          "metadata": {
            "tags": []
          }
        },
        {
          "output_type": "display_data",
          "data": {
            "image/png": "[encoded data removed]",
            "text/plain": [
              "<Figure size 720x720 with 1 Axes>"
            ]
          },
          "metadata": {
            "tags": [],
            "needs_background": "light"
          }
        }
      ]
    },
    {
      "cell_type": "code",
      "metadata": {
        "id": "0pxz8cyGcOoe",
        "colab_type": "code",
        "colab": {
          "base_uri": "https://localhost:8080/",
          "height": 1000
        },
        "outputId": "9429b5ba-3091-45ee-fd7f-ab5fcadad5f2"
      },
      "source": [
        "feat_imp(best_model,DataTen,'nonforest')"
      ],
      "execution_count": null,
      "outputs": [
        {
          "output_type": "stream",
          "text": [
            "Binned Popularity according to 10 quantiles [41. 49. 52. 55. 57. 60. 62. 65. 68. 72. 97.]\n",
            "Binned Popularity according to 10 quantiles [41. 49. 52. 55. 57. 60. 62. 65. 68. 72. 97.]\n",
            "acousticness  : 0.00445\n",
            "danceability  : 2.40557\n",
            "duration_ms  : 0.14697\n",
            "energy  : -2.10737\n",
            "instrumentalness  : -0.91483\n",
            "liveness  : -0.22000\n",
            "loudness  : 6.44525\n",
            "speechiness  : -0.35560\n",
            "tempo  : 0.34747\n",
            "valence  : -0.35402\n",
            "NoOfMarkets  : 2.26421\n",
            "mode_0  : -1.95850\n",
            "mode_1  : -2.08456\n",
            "time_signature_0  : 2.04272\n",
            "time_signature_1  : -2.10621\n",
            "time_signature_3  : -1.83371\n",
            "time_signature_4  : -1.36705\n",
            "time_signature_5  : -0.77882\n",
            "key_0  : -0.36454\n",
            "key_1  : -0.29845\n",
            "key_2  : -0.33148\n",
            "key_3  : -0.28672\n",
            "key_4  : -0.35020\n",
            "key_5  : -0.42526\n",
            "key_6  : -0.27163\n",
            "key_7  : -0.45183\n",
            "key_8  : -0.18363\n",
            "key_9  : -0.42956\n",
            "key_10  : -0.32607\n",
            "key_11  : -0.32369\n"
          ],
          "name": "stdout"
        },
        {
          "output_type": "display_data",
          "data": {
            "application/javascript": [
              "\n",
              "    async function download(id, filename, size) {\n",
              "      if (!google.colab.kernel.accessAllowed) {\n",
              "        return;\n",
              "      }\n",
              "      const div = document.createElement('div');\n",
              "      const label = document.createElement('label');\n",
              "      label.textContent = `Downloading \"${filename}\": `;\n",
              "      div.appendChild(label);\n",
              "      const progress = document.createElement('progress');\n",
              "      progress.max = size;\n",
              "      div.appendChild(progress);\n",
              "      document.body.appendChild(div);\n",
              "\n",
              "      const buffers = [];\n",
              "      let downloaded = 0;\n",
              "\n",
              "      const channel = await google.colab.kernel.comms.open(id);\n",
              "      // Send a message to notify the kernel that we're ready.\n",
              "      channel.send({})\n",
              "\n",
              "      for await (const message of channel.messages) {\n",
              "        // Send a message to notify the kernel that we're ready.\n",
              "        channel.send({})\n",
              "        if (message.buffers) {\n",
              "          for (const buffer of message.buffers) {\n",
              "            buffers.push(buffer);\n",
              "            downloaded += buffer.byteLength;\n",
              "            progress.value = downloaded;\n",
              "          }\n",
              "        }\n",
              "      }\n",
              "      const blob = new Blob(buffers, {type: 'application/binary'});\n",
              "      const a = document.createElement('a');\n",
              "      a.href = window.URL.createObjectURL(blob);\n",
              "      a.download = filename;\n",
              "      div.appendChild(a);\n",
              "      a.click();\n",
              "      div.remove();\n",
              "    }\n",
              "  "
            ],
            "text/plain": [
              "<IPython.core.display.Javascript object>"
            ]
          },
          "metadata": {
            "tags": []
          }
        },
        {
          "output_type": "display_data",
          "data": {
            "application/javascript": [
              "download(\"download_548f1cc4-061e-4bcb-874e-838cb324be13\", \"feature_imp_1.png\", 19920)"
            ],
            "text/plain": [
              "<IPython.core.display.Javascript object>"
            ]
          },
          "metadata": {
            "tags": []
          }
        },
        {
          "output_type": "display_data",
          "data": {
            "application/javascript": [
              "\n",
              "    async function download(id, filename, size) {\n",
              "      if (!google.colab.kernel.accessAllowed) {\n",
              "        return;\n",
              "      }\n",
              "      const div = document.createElement('div');\n",
              "      const label = document.createElement('label');\n",
              "      label.textContent = `Downloading \"${filename}\": `;\n",
              "      div.appendChild(label);\n",
              "      const progress = document.createElement('progress');\n",
              "      progress.max = size;\n",
              "      div.appendChild(progress);\n",
              "      document.body.appendChild(div);\n",
              "\n",
              "      const buffers = [];\n",
              "      let downloaded = 0;\n",
              "\n",
              "      const channel = await google.colab.kernel.comms.open(id);\n",
              "      // Send a message to notify the kernel that we're ready.\n",
              "      channel.send({})\n",
              "\n",
              "      for await (const message of channel.messages) {\n",
              "        // Send a message to notify the kernel that we're ready.\n",
              "        channel.send({})\n",
              "        if (message.buffers) {\n",
              "          for (const buffer of message.buffers) {\n",
              "            buffers.push(buffer);\n",
              "            downloaded += buffer.byteLength;\n",
              "            progress.value = downloaded;\n",
              "          }\n",
              "        }\n",
              "      }\n",
              "      const blob = new Blob(buffers, {type: 'application/binary'});\n",
              "      const a = document.createElement('a');\n",
              "      a.href = window.URL.createObjectURL(blob);\n",
              "      a.download = filename;\n",
              "      div.appendChild(a);\n",
              "      a.click();\n",
              "      div.remove();\n",
              "    }\n",
              "  "
            ],
            "text/plain": [
              "<IPython.core.display.Javascript object>"
            ]
          },
          "metadata": {
            "tags": []
          }
        },
        {
          "output_type": "display_data",
          "data": {
            "application/javascript": [
              "download(\"download_c3ccadb5-ce73-4cdb-b8d8-6fe3c81e76a7\", \"feature_imp_2.png\", 23696)"
            ],
            "text/plain": [
              "<IPython.core.display.Javascript object>"
            ]
          },
          "metadata": {
            "tags": []
          }
        },
        {
          "output_type": "display_data",
          "data": {
            "image/png": "[encoded data removed]",
            "text/plain": [
              "<Figure size 1440x1440 with 2 Axes>"
            ]
          },
          "metadata": {
            "tags": [],
            "needs_background": "light"
          }
        }
      ]
    },
    {
      "cell_type": "code",
      "metadata": {
        "id": "nDgxJhIBWmYC",
        "colab_type": "code",
        "colab": {}
      },
      "source": [
        "# Random Forest, randomsearchcv\n",
        "model = RandomForestClassifier(class_weight='balanced')\n",
        "random_grid= {'bootstrap': [True, False],\n",
        " 'max_depth': [ 60, 70, 80, 90, 100, None],\n",
        " 'max_features': ['auto', 'sqrt'],\n",
        " 'min_samples_leaf': [1, 2, 4],\n",
        " 'min_samples_split': [2, 5, 10],\n",
        " 'n_estimators': [200, 400, 600, 800, 1000],\n",
        " 'criterion': ['gini','entropy']}\n",
        "\n",
        "clf = RandomizedSearchCV(estimator = model, param_distributions = random_grid, n_iter = 5, verbose=2, random_state=42, n_jobs = -1) \n",
        "clf.fit(X_train,y_train)"
      ],
      "execution_count": null,
      "outputs": []
    },
    {
      "cell_type": "code",
      "metadata": {
        "id": "NGJImUAvijDo",
        "colab_type": "code",
        "colab": {}
      },
      "source": [
        "\n",
        "yHat=clf.predict(X_test)\n",
        "yhat=clf.predict_proba(X_test)\n",
        "\n"
      ],
      "execution_count": null,
      "outputs": []
    },
    {
      "cell_type": "code",
      "metadata": {
        "id": "pYRzAhlDlN7L",
        "colab_type": "code",
        "colab": {}
      },
      "source": [
        "ROC(X_test,X_train,y_train,y_test,clf,'Random')"
      ],
      "execution_count": null,
      "outputs": []
    },
    {
      "cell_type": "code",
      "metadata": {
        "id": "n5iIX0wvfuo-",
        "colab_type": "code",
        "colab": {}
      },
      "source": [
        "# Function to define regression accuracy metrics\n",
        "def regacc(model,X,y):\n",
        " y_pred=model.predict(X)\n",
        " print('Mean Absolute Error (MAE):', metrics.mean_absolute_error(y, y_pred))\n",
        " print('Mean Squared Error (MSE):', metrics.mean_squared_error(y, y_pred))\n",
        " print('Root Mean Squared Error (RMSE):', np.sqrt(metrics.mean_squared_error(y,  y_pred)))\n",
        " mape = np.mean(np.abs((y - y_pred) / np.abs( y_pred)))\n",
        " print('Mean Absolute Percentage Error (MAPE):', round(mape * 100, 2))\n",
        " print('Accuracy:', round(100*(1 - mape), 2))"
      ],
      "execution_count": null,
      "outputs": []
    },
    {
      "cell_type": "code",
      "metadata": {
        "id": "aatDcoxzIqgP",
        "colab_type": "code",
        "colab": {}
      },
      "source": [
        "# Function to plot distributions of popularity\n",
        "def PopularityPlot(regr,X,y):\n",
        " yhat=regr.predict(X)\n",
        " plt.figure(figsize=(15, 15))\n",
        " ax1 = sns.distplot(y, hist=False, color=\"r\", label=\"Actual Value\")\n",
        " sns.distplot(yhat, hist=False, color=\"b\", label=\"Fitted Values\" , ax=ax1)\n",
        " plt.title('Actual vs Fitted Values for Popularity')\n",
        " plt.xlabel('Popularity')\n",
        " plt.savefig('Actual vs Fitted Values for Popularity.png')\n",
        " files.download('Actual vs Fitted Values for Popularity.png' )\n",
        " plt.show()\n",
        " plt.close()"
      ],
      "execution_count": null,
      "outputs": []
    },
    {
      "cell_type": "code",
      "metadata": {
        "id": "w58WvCEz-Qju",
        "colab_type": "code",
        "colab": {}
      },
      "source": [
        "# Random Search on Random forest \n",
        "random_grid={'bootstrap': [True, False],\n",
        " 'max_depth': [2,5,10, 20, 30, 40, 50, 60, None],\n",
        " 'max_features': ['auto', 'sqrt'],\n",
        " 'n_estimators': [200, 400, 600, 800, 1000]}\n",
        "regr = RandomForestRegressor()\n",
        "regr = RandomizedSearchCV(estimator = regr, param_distributions = random_grid, cv = 3, verbose=2, random_state=42, n_jobs = -1) \n",
        "model=regr.fit(X_train,y_train)\n"
      ],
      "execution_count": null,
      "outputs": []
    },
    {
      "cell_type": "code",
      "metadata": {
        "id": "T4IcNsxAnYER",
        "colab_type": "code",
        "colab": {}
      },
      "source": [
        "model_.fit(X_train,y_train)\n",
        "regacc(model_,X_test,y_test)\n",
        "feat_imp(model_,DataTen,'forest')"
      ],
      "execution_count": null,
      "outputs": []
    },
    {
      "cell_type": "code",
      "metadata": {
        "id": "NqQWHxkJ2Ske",
        "colab_type": "code",
        "colab": {}
      },
      "source": [
        "\n",
        "PopularityPlot(model_,X_train,y_train)\n",
        "PopularityPlot(model_,X_test,y_test)"
      ],
      "execution_count": null,
      "outputs": []
    },
    {
      "cell_type": "code",
      "metadata": {
        "id": "lHzsLK6G7p-p",
        "colab_type": "code",
        "colab": {}
      },
      "source": [
        "## Grid search on ridge regression with polynominal features\n",
        "X_train, X_test, y_train, y_test = trainvar(DataTen,'minmax',0.3,'regression')\n",
        "degree_1 =[1,2,3]\n",
        "alpha_1= [ 0.01,0.1,1,10,100,200,500,1000]\n",
        "MSE=10000000\n",
        "best_degree=-1\n",
        "for degree in degree_1:\n",
        "  pr=PolynomialFeatures(degree=degree)\n",
        "  X_train_=pr.fit_transform(X_train)\n",
        "  X_test_=pr.fit_transform(X_test)\n",
        "  for alpha in alpha_1:  \n",
        "    model=Ridge(alpha=alpha,fit_intercept=True)\n",
        "    model.fit(X_train_,y_train)\n",
        "    y_pred=model.predict(X_test_)\n",
        "    y_pred_train=model.predict(X_train_)\n",
        "    curr_MSE= metrics.mean_squared_error(y_test, y_pred)\n",
        "    curr_MSE_train=metrics.mean_squared_error(y_train, y_pred_train)\n",
        "    print(\"For degree:\",degree,\",alpha:\",alpha,\"the train MSE is\",curr_MSE_train,\"the test MSE is \",curr_MSE)\n",
        "    if curr_MSE<MSE:\n",
        "      MSE=curr_MSE\n",
        "      best_model=model\n",
        "      best_degree=degree\n",
        "\n",
        "   \n"
      ],
      "execution_count": null,
      "outputs": []
    },
    {
      "cell_type": "code",
      "metadata": {
        "id": "MqLeWgqvKE1U",
        "colab_type": "code",
        "colab": {}
      },
      "source": [
        "pr=PolynomialFeatures(degree=best_degree)\n",
        "X_train_=pr.fit_transform(X_train)\n",
        "X_test_=pr.fit_transform(X_test)"
      ],
      "execution_count": null,
      "outputs": []
    },
    {
      "cell_type": "code",
      "metadata": {
        "id": "Hi2rHfb-y_ll",
        "colab_type": "code",
        "colab": {}
      },
      "source": [
        "PopularityPlot(best_model,X_train_,y_train)\n",
        "PopularityPlot(best_model,X_test,y_test)"
      ],
      "execution_count": null,
      "outputs": []
    },
    {
      "cell_type": "code",
      "metadata": {
        "id": "SvF96ucZpAmi",
        "colab_type": "code",
        "colab": {}
      },
      "source": [
        "# Getting the features for my own track\n",
        "available_markets=0\n",
        "track_results = sp.track('0y2Ga0Au2NZaRuIGEAiwTQ')\n",
        "for i in track_results['album']['available_markets']:\n",
        "  available_markets+=1\n",
        "\n",
        "available_markets\n",
        "DataFrame=pd.DataFrame(audio_feats('0y2Ga0Au2NZaRuIGEAiwTQ'))\n",
        "DataFrame['NoOfMarkets']=available_markets\n"
      ],
      "execution_count": null,
      "outputs": []
    }
  ]
}